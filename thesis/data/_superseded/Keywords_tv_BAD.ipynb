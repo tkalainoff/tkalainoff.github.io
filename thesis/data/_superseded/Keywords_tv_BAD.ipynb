{
 "cells": [
  {
   "cell_type": "markdown",
   "metadata": {},
   "source": [
    "# Basic Keyword TV"
   ]
  },
  {
   "cell_type": "markdown",
   "metadata": {},
   "source": [
    "## Dataset Creation"
   ]
  },
  {
   "cell_type": "code",
   "execution_count": 1,
   "metadata": {},
   "outputs": [],
   "source": [
    "# Import libraries\n",
    "import pandas as pd\n",
    "import numpy as np"
   ]
  },
  {
   "cell_type": "code",
   "execution_count": 2,
   "metadata": {},
   "outputs": [
    {
     "name": "stderr",
     "output_type": "stream",
     "text": [
      "/var/folders/84/zy4ybqrs7ybcqt8x9dg4gtlh0000gn/T/ipykernel_54499/1341330382.py:2: DtypeWarning: Columns (4) have mixed types. Specify dtype option on import or set low_memory=False.\n",
      "  title_basics = pd.read_csv('data/title.basics.tsv.gz', sep='\\t', header=0)\n"
     ]
    }
   ],
   "source": [
    "# Import 2 tables from IMDb datasets that we need\n",
    "title_basics = pd.read_csv('data/title.basics.tsv.gz', sep='\\t', header=0)\n",
    "title_ratings = pd.read_csv('data/title.ratings.tsv.gz', sep='\\t', header=0)"
   ]
  },
  {
   "cell_type": "code",
   "execution_count": 3,
   "metadata": {},
   "outputs": [
    {
     "data": {
      "text/plain": [
       "0    tt0000001\n",
       "1    tt0000002\n",
       "2    tt0000003\n",
       "3    tt0000004\n",
       "4    tt0000005\n",
       "Name: tconst, dtype: object"
      ]
     },
     "execution_count": 3,
     "metadata": {},
     "output_type": "execute_result"
    }
   ],
   "source": [
    "title_ratings.tconst.head()"
   ]
  },
  {
   "cell_type": "code",
   "execution_count": 4,
   "metadata": {},
   "outputs": [
    {
     "data": {
      "text/plain": [
       "array(['short', 'movie', 'tvShort', 'tvMovie', 'tvSeries', 'tvEpisode',\n",
       "       'tvMiniSeries', 'tvSpecial', 'video', 'videoGame', 'tvPilot'],\n",
       "      dtype=object)"
      ]
     },
     "execution_count": 4,
     "metadata": {},
     "output_type": "execute_result"
    }
   ],
   "source": [
    "title_basics.titleType.unique()"
   ]
  },
  {
   "cell_type": "code",
   "execution_count": 5,
   "metadata": {},
   "outputs": [],
   "source": [
    "# Select only tvseries from the title_basics table\n",
    "tvSeries = title_basics[(title_basics.titleType == 'tvSeries')].copy()"
   ]
  },
  {
   "cell_type": "code",
   "execution_count": 6,
   "metadata": {},
   "outputs": [
    {
     "data": {
      "text/html": [
       "<div>\n",
       "<style scoped>\n",
       "    .dataframe tbody tr th:only-of-type {\n",
       "        vertical-align: middle;\n",
       "    }\n",
       "\n",
       "    .dataframe tbody tr th {\n",
       "        vertical-align: top;\n",
       "    }\n",
       "\n",
       "    .dataframe thead th {\n",
       "        text-align: right;\n",
       "    }\n",
       "</style>\n",
       "<table border=\"1\" class=\"dataframe\">\n",
       "  <thead>\n",
       "    <tr style=\"text-align: right;\">\n",
       "      <th></th>\n",
       "      <th>tconst</th>\n",
       "      <th>titleType</th>\n",
       "      <th>primaryTitle</th>\n",
       "      <th>originalTitle</th>\n",
       "      <th>isAdult</th>\n",
       "      <th>startYear</th>\n",
       "      <th>endYear</th>\n",
       "      <th>runtimeMinutes</th>\n",
       "      <th>genres</th>\n",
       "    </tr>\n",
       "  </thead>\n",
       "  <tbody>\n",
       "    <tr>\n",
       "      <th>34976</th>\n",
       "      <td>tt0035599</td>\n",
       "      <td>tvSeries</td>\n",
       "      <td>Voice of Firestone Televues</td>\n",
       "      <td>Voice of Firestone Televues</td>\n",
       "      <td>0</td>\n",
       "      <td>1943</td>\n",
       "      <td>1947</td>\n",
       "      <td>15</td>\n",
       "      <td>\\N</td>\n",
       "    </tr>\n",
       "    <tr>\n",
       "      <th>35177</th>\n",
       "      <td>tt0035803</td>\n",
       "      <td>tvSeries</td>\n",
       "      <td>The German Weekly Review</td>\n",
       "      <td>Die Deutsche Wochenschau</td>\n",
       "      <td>0</td>\n",
       "      <td>1940</td>\n",
       "      <td>1945</td>\n",
       "      <td>12</td>\n",
       "      <td>Documentary,News</td>\n",
       "    </tr>\n",
       "    <tr>\n",
       "      <th>37606</th>\n",
       "      <td>tt0038276</td>\n",
       "      <td>tvSeries</td>\n",
       "      <td>You Are an Artist</td>\n",
       "      <td>You Are an Artist</td>\n",
       "      <td>0</td>\n",
       "      <td>1946</td>\n",
       "      <td>1955</td>\n",
       "      <td>15</td>\n",
       "      <td>Talk-Show</td>\n",
       "    </tr>\n",
       "    <tr>\n",
       "      <th>38440</th>\n",
       "      <td>tt0039120</td>\n",
       "      <td>tvSeries</td>\n",
       "      <td>Americana</td>\n",
       "      <td>Americana</td>\n",
       "      <td>0</td>\n",
       "      <td>1947</td>\n",
       "      <td>1949</td>\n",
       "      <td>30</td>\n",
       "      <td>Family,Game-Show</td>\n",
       "    </tr>\n",
       "    <tr>\n",
       "      <th>38441</th>\n",
       "      <td>tt0039121</td>\n",
       "      <td>tvSeries</td>\n",
       "      <td>Birthday Party</td>\n",
       "      <td>Birthday Party</td>\n",
       "      <td>0</td>\n",
       "      <td>1947</td>\n",
       "      <td>1949</td>\n",
       "      <td>30</td>\n",
       "      <td>Family</td>\n",
       "    </tr>\n",
       "  </tbody>\n",
       "</table>\n",
       "</div>"
      ],
      "text/plain": [
       "          tconst titleType                 primaryTitle  \\\n",
       "34976  tt0035599  tvSeries  Voice of Firestone Televues   \n",
       "35177  tt0035803  tvSeries     The German Weekly Review   \n",
       "37606  tt0038276  tvSeries            You Are an Artist   \n",
       "38440  tt0039120  tvSeries                    Americana   \n",
       "38441  tt0039121  tvSeries               Birthday Party   \n",
       "\n",
       "                     originalTitle isAdult startYear endYear runtimeMinutes  \\\n",
       "34976  Voice of Firestone Televues       0      1943    1947             15   \n",
       "35177     Die Deutsche Wochenschau       0      1940    1945             12   \n",
       "37606            You Are an Artist       0      1946    1955             15   \n",
       "38440                    Americana       0      1947    1949             30   \n",
       "38441               Birthday Party       0      1947    1949             30   \n",
       "\n",
       "                 genres  \n",
       "34976                \\N  \n",
       "35177  Documentary,News  \n",
       "37606         Talk-Show  \n",
       "38440  Family,Game-Show  \n",
       "38441            Family  "
      ]
     },
     "execution_count": 6,
     "metadata": {},
     "output_type": "execute_result"
    }
   ],
   "source": [
    "tvSeries.head(5)"
   ]
  },
  {
   "cell_type": "code",
   "execution_count": 7,
   "metadata": {},
   "outputs": [],
   "source": [
    "# Set the indicies for our 2 tables to the IMDb key for tvseries\n",
    "tvSeries.set_index('tconst', inplace=True)\n",
    "title_ratings.set_index('tconst', inplace=True)\n",
    "# Joint the 2 tables by tconst, the IMDb key for all tvseries\n",
    "tvSeries_with_rating = tvSeries.join(title_ratings, how='inner')"
   ]
  },
  {
   "cell_type": "code",
   "execution_count": 8,
   "metadata": {},
   "outputs": [
    {
     "data": {
      "text/html": [
       "<div>\n",
       "<style scoped>\n",
       "    .dataframe tbody tr th:only-of-type {\n",
       "        vertical-align: middle;\n",
       "    }\n",
       "\n",
       "    .dataframe tbody tr th {\n",
       "        vertical-align: top;\n",
       "    }\n",
       "\n",
       "    .dataframe thead th {\n",
       "        text-align: right;\n",
       "    }\n",
       "</style>\n",
       "<table border=\"1\" class=\"dataframe\">\n",
       "  <thead>\n",
       "    <tr style=\"text-align: right;\">\n",
       "      <th></th>\n",
       "      <th>titleType</th>\n",
       "      <th>primaryTitle</th>\n",
       "      <th>originalTitle</th>\n",
       "      <th>isAdult</th>\n",
       "      <th>startYear</th>\n",
       "      <th>endYear</th>\n",
       "      <th>runtimeMinutes</th>\n",
       "      <th>genres</th>\n",
       "      <th>averageRating</th>\n",
       "      <th>numVotes</th>\n",
       "    </tr>\n",
       "    <tr>\n",
       "      <th>tconst</th>\n",
       "      <th></th>\n",
       "      <th></th>\n",
       "      <th></th>\n",
       "      <th></th>\n",
       "      <th></th>\n",
       "      <th></th>\n",
       "      <th></th>\n",
       "      <th></th>\n",
       "      <th></th>\n",
       "      <th></th>\n",
       "    </tr>\n",
       "  </thead>\n",
       "  <tbody>\n",
       "    <tr>\n",
       "      <th>tt0035803</th>\n",
       "      <td>tvSeries</td>\n",
       "      <td>The German Weekly Review</td>\n",
       "      <td>Die Deutsche Wochenschau</td>\n",
       "      <td>0</td>\n",
       "      <td>1940</td>\n",
       "      <td>1945</td>\n",
       "      <td>12</td>\n",
       "      <td>Documentary,News</td>\n",
       "      <td>8.1</td>\n",
       "      <td>55</td>\n",
       "    </tr>\n",
       "    <tr>\n",
       "      <th>tt0039120</th>\n",
       "      <td>tvSeries</td>\n",
       "      <td>Americana</td>\n",
       "      <td>Americana</td>\n",
       "      <td>0</td>\n",
       "      <td>1947</td>\n",
       "      <td>1949</td>\n",
       "      <td>30</td>\n",
       "      <td>Family,Game-Show</td>\n",
       "      <td>3.0</td>\n",
       "      <td>15</td>\n",
       "    </tr>\n",
       "    <tr>\n",
       "      <th>tt0039123</th>\n",
       "      <td>tvSeries</td>\n",
       "      <td>Kraft Theatre</td>\n",
       "      <td>Kraft Television Theatre</td>\n",
       "      <td>0</td>\n",
       "      <td>1947</td>\n",
       "      <td>1958</td>\n",
       "      <td>60</td>\n",
       "      <td>Drama</td>\n",
       "      <td>8.2</td>\n",
       "      <td>198</td>\n",
       "    </tr>\n",
       "    <tr>\n",
       "      <th>tt0039125</th>\n",
       "      <td>tvSeries</td>\n",
       "      <td>Public Prosecutor</td>\n",
       "      <td>Public Prosecutor</td>\n",
       "      <td>0</td>\n",
       "      <td>1947</td>\n",
       "      <td>1951</td>\n",
       "      <td>20</td>\n",
       "      <td>Crime,Drama,Mystery</td>\n",
       "      <td>5.5</td>\n",
       "      <td>23</td>\n",
       "    </tr>\n",
       "    <tr>\n",
       "      <th>tt0040021</th>\n",
       "      <td>tvSeries</td>\n",
       "      <td>Actor's Studio</td>\n",
       "      <td>Actor's Studio</td>\n",
       "      <td>0</td>\n",
       "      <td>1948</td>\n",
       "      <td>1950</td>\n",
       "      <td>30</td>\n",
       "      <td>Drama</td>\n",
       "      <td>7.2</td>\n",
       "      <td>80</td>\n",
       "    </tr>\n",
       "  </tbody>\n",
       "</table>\n",
       "</div>"
      ],
      "text/plain": [
       "          titleType              primaryTitle             originalTitle  \\\n",
       "tconst                                                                    \n",
       "tt0035803  tvSeries  The German Weekly Review  Die Deutsche Wochenschau   \n",
       "tt0039120  tvSeries                 Americana                 Americana   \n",
       "tt0039123  tvSeries             Kraft Theatre  Kraft Television Theatre   \n",
       "tt0039125  tvSeries         Public Prosecutor         Public Prosecutor   \n",
       "tt0040021  tvSeries            Actor's Studio            Actor's Studio   \n",
       "\n",
       "          isAdult startYear endYear runtimeMinutes               genres  \\\n",
       "tconst                                                                    \n",
       "tt0035803       0      1940    1945             12     Documentary,News   \n",
       "tt0039120       0      1947    1949             30     Family,Game-Show   \n",
       "tt0039123       0      1947    1958             60                Drama   \n",
       "tt0039125       0      1947    1951             20  Crime,Drama,Mystery   \n",
       "tt0040021       0      1948    1950             30                Drama   \n",
       "\n",
       "           averageRating  numVotes  \n",
       "tconst                              \n",
       "tt0035803            8.1        55  \n",
       "tt0039120            3.0        15  \n",
       "tt0039123            8.2       198  \n",
       "tt0039125            5.5        23  \n",
       "tt0040021            7.2        80  "
      ]
     },
     "execution_count": 8,
     "metadata": {},
     "output_type": "execute_result"
    }
   ],
   "source": [
    "tvSeries_with_rating.head(5)"
   ]
  },
  {
   "cell_type": "code",
   "execution_count": 9,
   "metadata": {},
   "outputs": [],
   "source": [
    "# Take only the top 1,000 tvSeries, where we rank movies by the number of votes they have received\n",
    "top_1000_tvSeries = tvSeries_with_rating.sort_values(by='numVotes', ascending=False)[:1000]\n",
    "tvSeries_index = top_1000_tvSeries.index"
   ]
  },
  {
   "cell_type": "code",
   "execution_count": 10,
   "metadata": {},
   "outputs": [
    {
     "data": {
      "text/html": [
       "<div>\n",
       "<style scoped>\n",
       "    .dataframe tbody tr th:only-of-type {\n",
       "        vertical-align: middle;\n",
       "    }\n",
       "\n",
       "    .dataframe tbody tr th {\n",
       "        vertical-align: top;\n",
       "    }\n",
       "\n",
       "    .dataframe thead th {\n",
       "        text-align: right;\n",
       "    }\n",
       "</style>\n",
       "<table border=\"1\" class=\"dataframe\">\n",
       "  <thead>\n",
       "    <tr style=\"text-align: right;\">\n",
       "      <th></th>\n",
       "      <th>titleType</th>\n",
       "      <th>primaryTitle</th>\n",
       "      <th>originalTitle</th>\n",
       "      <th>isAdult</th>\n",
       "      <th>startYear</th>\n",
       "      <th>endYear</th>\n",
       "      <th>runtimeMinutes</th>\n",
       "      <th>genres</th>\n",
       "      <th>averageRating</th>\n",
       "      <th>numVotes</th>\n",
       "    </tr>\n",
       "    <tr>\n",
       "      <th>tconst</th>\n",
       "      <th></th>\n",
       "      <th></th>\n",
       "      <th></th>\n",
       "      <th></th>\n",
       "      <th></th>\n",
       "      <th></th>\n",
       "      <th></th>\n",
       "      <th></th>\n",
       "      <th></th>\n",
       "      <th></th>\n",
       "    </tr>\n",
       "  </thead>\n",
       "  <tbody>\n",
       "    <tr>\n",
       "      <th>tt0944947</th>\n",
       "      <td>tvSeries</td>\n",
       "      <td>Game of Thrones</td>\n",
       "      <td>Game of Thrones</td>\n",
       "      <td>0</td>\n",
       "      <td>2011</td>\n",
       "      <td>2019</td>\n",
       "      <td>57</td>\n",
       "      <td>Action,Adventure,Drama</td>\n",
       "      <td>9.2</td>\n",
       "      <td>2142235</td>\n",
       "    </tr>\n",
       "    <tr>\n",
       "      <th>tt0903747</th>\n",
       "      <td>tvSeries</td>\n",
       "      <td>Breaking Bad</td>\n",
       "      <td>Breaking Bad</td>\n",
       "      <td>0</td>\n",
       "      <td>2008</td>\n",
       "      <td>2013</td>\n",
       "      <td>49</td>\n",
       "      <td>Crime,Drama,Thriller</td>\n",
       "      <td>9.5</td>\n",
       "      <td>1947109</td>\n",
       "    </tr>\n",
       "    <tr>\n",
       "      <th>tt4574334</th>\n",
       "      <td>tvSeries</td>\n",
       "      <td>Stranger Things</td>\n",
       "      <td>Stranger Things</td>\n",
       "      <td>0</td>\n",
       "      <td>2016</td>\n",
       "      <td>2024</td>\n",
       "      <td>51</td>\n",
       "      <td>Drama,Fantasy,Horror</td>\n",
       "      <td>8.7</td>\n",
       "      <td>1226410</td>\n",
       "    </tr>\n",
       "    <tr>\n",
       "      <th>tt1520211</th>\n",
       "      <td>tvSeries</td>\n",
       "      <td>The Walking Dead</td>\n",
       "      <td>The Walking Dead</td>\n",
       "      <td>0</td>\n",
       "      <td>2010</td>\n",
       "      <td>2022</td>\n",
       "      <td>44</td>\n",
       "      <td>Drama,Horror,Thriller</td>\n",
       "      <td>8.1</td>\n",
       "      <td>1017040</td>\n",
       "    </tr>\n",
       "    <tr>\n",
       "      <th>tt0108778</th>\n",
       "      <td>tvSeries</td>\n",
       "      <td>Friends</td>\n",
       "      <td>Friends</td>\n",
       "      <td>0</td>\n",
       "      <td>1994</td>\n",
       "      <td>2004</td>\n",
       "      <td>22</td>\n",
       "      <td>Comedy,Romance</td>\n",
       "      <td>8.9</td>\n",
       "      <td>1016319</td>\n",
       "    </tr>\n",
       "  </tbody>\n",
       "</table>\n",
       "</div>"
      ],
      "text/plain": [
       "          titleType      primaryTitle     originalTitle isAdult startYear  \\\n",
       "tconst                                                                      \n",
       "tt0944947  tvSeries   Game of Thrones   Game of Thrones       0      2011   \n",
       "tt0903747  tvSeries      Breaking Bad      Breaking Bad       0      2008   \n",
       "tt4574334  tvSeries   Stranger Things   Stranger Things       0      2016   \n",
       "tt1520211  tvSeries  The Walking Dead  The Walking Dead       0      2010   \n",
       "tt0108778  tvSeries           Friends           Friends       0      1994   \n",
       "\n",
       "          endYear runtimeMinutes                  genres  averageRating  \\\n",
       "tconst                                                                    \n",
       "tt0944947    2019             57  Action,Adventure,Drama            9.2   \n",
       "tt0903747    2013             49    Crime,Drama,Thriller            9.5   \n",
       "tt4574334    2024             51    Drama,Fantasy,Horror            8.7   \n",
       "tt1520211    2022             44   Drama,Horror,Thriller            8.1   \n",
       "tt0108778    2004             22          Comedy,Romance            8.9   \n",
       "\n",
       "           numVotes  \n",
       "tconst               \n",
       "tt0944947   2142235  \n",
       "tt0903747   1947109  \n",
       "tt4574334   1226410  \n",
       "tt1520211   1017040  \n",
       "tt0108778   1016319  "
      ]
     },
     "execution_count": 10,
     "metadata": {},
     "output_type": "execute_result"
    }
   ],
   "source": [
    "top_1000_tvSeries.head(5)"
   ]
  },
  {
   "cell_type": "code",
   "execution_count": 11,
   "metadata": {},
   "outputs": [],
   "source": [
    "from tqdm import tqdm\n",
    "from time import sleep\n",
    "from imdb import IMDb\n",
    "\n",
    "ia = IMDb()"
   ]
  },
  {
   "cell_type": "code",
   "execution_count": 38,
   "metadata": {},
   "outputs": [
    {
     "data": {
      "text/plain": [
       "{'main': ['localized title',\n",
       "  'cast',\n",
       "  'genres',\n",
       "  'runtimes',\n",
       "  'countries',\n",
       "  'country codes',\n",
       "  'language codes',\n",
       "  'color info',\n",
       "  'aspect ratio',\n",
       "  'sound mix',\n",
       "  'certificates',\n",
       "  'number of seasons',\n",
       "  'rating',\n",
       "  'votes',\n",
       "  'cover url',\n",
       "  'imdbID',\n",
       "  'videos',\n",
       "  'plot outline',\n",
       "  'languages',\n",
       "  'title',\n",
       "  'year',\n",
       "  'kind',\n",
       "  'series years',\n",
       "  'original title',\n",
       "  'akas',\n",
       "  'seasons',\n",
       "  'writer',\n",
       "  'production companies',\n",
       "  'distributors',\n",
       "  'special effects',\n",
       "  'other companies'],\n",
       " 'plot': []}"
      ]
     },
     "execution_count": 38,
     "metadata": {},
     "output_type": "execute_result"
    }
   ],
   "source": [
    "# movie = ia.get_movie('0944947')\n",
    "movie.infoset2keys"
   ]
  },
  {
   "cell_type": "code",
   "execution_count": 18,
   "metadata": {},
   "outputs": [
    {
     "name": "stdout",
     "output_type": "stream",
     "text": [
      "['based-on-novel', 'dragon', 'politics', 'nudity', 'incest', 'queen', 'war-between-families', 'abuse-of-power', 'brother-sister-incest', 'bastard-son', 'twins-incest', 'kingdom', 'family-conflict', 'prince', 'civil-war', 'husband-wife-relationship', 'bloody-violence', 'king', 'murder', 'swordplay', 'witchcraft', 'prostitution', 'forced-marriage', 'sex-scene', 'sorcery', 'vow-of-chastity', 'brother-sister-relationship', 'infidelity', 'magic', 'illegitimate-son', 'royalty', 'female-nudity', 'power-struggle', 'intrigue', 'secret', 'fictional-war', 'vow-of-abstinence', 'evil-king', 'betrayal', 'usurper', 'sibling-rivalry', 'missing-hand', 'child-bride', 'political-conflict', 'archery', 'priestess', 'rivalry', 'mother-son-relationship', 'nobility', 'family-relationships', 'belief-in-gods', 'mythical-kingdom', 'religious-differences', 'sword-and-sorcery', 'sadistic-cruelty', 'seer', 'father-son-relationship', 'night-watch', 'held-hostage', 'bow-and-arrow', 'twin-brother', 'paralysis', 'sister-sister-relationship', 'mother-daughter-relationship', 'based-on-book', 'horseback-riding', 'fortification', 'eunuch', 'exile', 'half-brother-half-sister-relationship', 'sword-and-fantasy', 'sexism', 'squire', 'f-word', 'amputee', 'swordsman', 'brother-sister-romance', 'westeros', 'iron-throne', 'throne', 'reference-to-the-wars-of-the-roses', 'fictional-world', 'religion', 'witch', 'violence', 'three-word-title', 'prostitute', 'game-of-thrones', 'full-frontal-nudity', 'graphic-nudity', 'castle', 'little-person', 'grim', 'power-game', 'female-rear-nudity', 'large-breasts', 'death', 'tent', 'twin-sister', 'half-brother-half-brother-relationship', 'knight', 'alternate-reality', 'lesbian', 'lesbian-sex', 'lesbianism', 'necromancy', 'brother-brother-relationship', 'manipulation', 'cunning', 'epic-fantasy', 'fictional-continent', 'essos', 'dynasty', 'mad-king', 'insanity', 'monarch', 'monarchy', 'high-fantasy', 'political-intrigue', 'religious-belief', 'undead', 'wizard', 'women-in-war', 'warfare', 'fictional-universe', 'dark-fantasy', 'speculative-fiction', 'amoral', 'amorality', 'darkness', 'profanity', 'brother-and-sister-in-love-with-each-other', 'feudal-landlord', 'hatred', 'leadership', 'bastard', 'barbarian', 'literature-on-screen', 'american-literature-on-screen', '20th-century-literature-on-screen', '21st-century-literature-on-screen', 'fantasy-literature-on-screen', 'american-fantasy-literature-on-screen', 'assassin', 'jousting', 'sword-duel', 'medieval-fantasy', 'fantasy-world', 'fur-coat', 'furs', 'leather-jacket', 'leather-pants', 'fur-clothing', 'c-word', 'sword-and-sorcery-fantasy', 'epic-drama', 'tragedy-drama', 'gritty', 'corrupt-ruler', 'snow-adventure', 'sword', 'female-protagonist', 'strong-female-character', 'gritty-fantasy', 'cult-tv', 'live-action-adaptation', 'short-haired-female', 'pubic-hair', 'psychotronic-series', 'sword-fight', 'action-hero', 'anti-hero', 'tough-guy', 'warrior', 'action-heroine', 'anti-heroine', 'tough-girl', 'female-warrior', 'female-fighter', 'power', 'good-versus-evil', 'ensemble-cast', 'battle', 'battlefield', 'combat', 'blood', 'soldier', 'princess', 'famous-opening-theme', 'arya-stark-character', 'bald-man', 'incarceration', 'man-girl-relationship', 'a-song-of-ice-and-fire', 'alternate-world', 'political-fiction', 'grimdark', 'dystopian-fantasy', 'good-guys-win', 'female-full-frontal-nudity', 'female-pubic-hair']\n"
     ]
    }
   ],
   "source": [
    "got = ia.get_movie('0944947', info=['keywords'])\n",
    "# got.infoset2keys\n",
    "print(got['keywords'])"
   ]
  },
  {
   "cell_type": "code",
   "execution_count": 21,
   "metadata": {},
   "outputs": [
    {
     "name": "stdout",
     "output_type": "stream",
     "text": [
      "['marvel-cinematic-universe', 'marvel-comics', 'based-on-comic-book', 'king', 'african-king', 'fictional-african-country', 'usurper', 'isolationism', 'kingdom', 'african', 'tragic-villain', 'advanced-technology', 'wakanda', 'superhero', 'black-panther-character', 'africa', 'black-hero', 'black-superhero', 'african-protagonist', 'action-hero', 'revenge', 'love-interest', 'super-villain', 'loss-of-arm', 'african-tribe', 'friendship', 'chase', 'technology', 'warrior', 'hologram', 'vibranium', 'kicked-in-the-stomach', 'fight-to-the-death', 'spear', 'tribal-leader', 'heir-to-throne', 'ritual', 'thrown-from-height', 'hero', 'laboratory', 'female-scientist', 'bare-chested-male', 'bilingualism', 'spy', 'casino', 'war-veteran', 'overturning-car', 'rhinoceros', 'father-son-relationship', \"coup-d'etat\", 'back-from-the-dead', 'loss-of-father', 'prosthetic-arm', 'museum', 'cia-agent', 'money-falling-through-the-air', 'younger-version-of-character', 'hooton-plan', 're-education', 'new-world-order', 'nwo', 'propaganda', 'theft', 'high-speed-chase', 'nationalism', 'fluorescent-tattoo', 'lip-tattoo', 'shooting-a-hostage', 'black-panther', 'ulysses-klaue-a.k.a.-klaw-character', 'strong-female-character', 'african-superhero', 'british-actor-playing-american-character', 'death-of-father', 'title-spoken-by-character', 'colonialism', 'animal-in-title', 'color-in-title', 'mother-son-relationship', 'geopolitics', 'female-spy', 'brother-sister-relationship', 'black-power', 'warrior-race', 'woman-with-a-shaved-head', 'man-in-a-coma', 'based-on-comic', 'futuristic', 'year-1992', '2010s', 'united-nations', 'challenger-to-the-throne', 'tough-woman', 'black-heroine', 'fictional-kingdom', 'moral-ambiguity', 'black-protagonist', 'superhero-action', 'snow-adventure', 'martial-arts', 'character-name-in-title', 'female-warrior', 'blaxploitation', 'female-cinematographer', 'action-heroine', 'threatened-with-a-knife', 'sequel-mentioned-during-end-credits', 'african-culture', 'female-soldier', 'female-bodyguard', 'black-on-black-violence', 'african-american', 'bravery', 'courage', 'female-general', 'two-word-title', 'surprise-after-end-credits', 'ascension-to-the-throne', 'open-challenge', 'palace-coup', 'remote-control', 'queen-mother', 'insurrection', 'prosthetic', 'car-chase', 'high-tech', 'marvel-entertainment', 'gadgetry', 'gadget', 'one-man-army', 'opening-action-scene', 'one-against-many', 'fistfight', 'fight', 'brawl', 'mixed-martial-arts', 'hand-to-hand-combat', 'stylized-violence', 'dual-wield', 'slow-motion-scene', 'kicked-in-the-face', 'beating', 'gunfight', 'shootout', 'battle', 'battlefield', 'combat', 'showdown', 'final-showdown', 'final-battle', 'sword-fight', 'knife-fight', 'sword', 'knife', 'hammer', 'explosion', 'exploding-airplane', 'element', 'futuristic-train', 'el-train', 'monorail', 'costume', 'costumed-hero', 'prologue', 'animated-sequence', 'no-opening-credits', 'no-title-at-beginning', 'title-at-the-end', 'scene-during-end-credits', 'surprise-during-end-credits', 'scene-after-end-credits', 'dogfight', 'aerial-battle', 'laser', 'airplane-shot-down', 'airplane', 'vertical-take-off-and-landing-aircraft', 'crash-landing', 'militant', 'blockbuster', 'world-domination', 'oakland-california', 'nigeria', 'south-korea', 'london-england', 'origin-of-hero', 'tribe', 'leader', 'leadership', 'anti-villain', 'coronation', 'good-versus-evil', 'fictional-war', 'garden', 'fire', 'scar', 'branding', 'tattoo', 'sociopath', 'science-fantasy', 'throne', 'subtitled-scene', 'queen', 'prince', 'princess', 'waterfall', 'falling-from-height', 'vision', 'dog', 'housing-project', 'ghetto', 'apartment', 'abandoned-apartment', 'heroism', 'moral-dilemma', 'fighting-in-the-air', 'jumping-from-an-airplane', 'jumping-from-height', 'high-tech-suit', 'secret-laboratory', 'scientist', 'wisecrack-humor', 'tracking-device', 'face-paint', 'disarming-someone', 'undercover', 'undercover-agent', 'surveillance', 'security-guard', 'security-camera', 'disguise', 'espionage', 'soldier', 'army', 'general', 'mercenary', 'ex-special-forces', 'military', 'special-forces', 'shot-in-the-head', 'shot-in-the-chest', 'shot-in-the-back', 'shot-to-death', 'stabbed-in-the-chest', 'stabbed-in-the-back', 'stabbed-to-death', 'stabbed-in-the-foot', 'murder', 'death', 'violence', 'brutality', 'mercilessness', 'hostage', 'held-at-gunpoint', 'rescue', 'escape', 'deception', 'betrayal', 'junkyard', 'helicopter', 'car-stunt', 'car-crash', 'car-accident', 'flipping-car', 'bridge', 'explosive', 'village', 'city', 'futuristic-city', 'anger', 'hatred', 'pistol', 'redemption', 'guilt', 'regret', 'silencer', 'machine-gun', 'orphan', 'shield', 'force-field', 'mountain', 'snow', 'resurrection', 'cover-up', 'panther', 'super-strength', 'superhuman-strength', 'death-of-brother', 'loss-of-brother', 'death-of-uncle', 'loss-of-uncle', 'death-of-nephew', 'loss-of-nephew', 'flashback', 'cameo', 'stan-lee-cameo', 'council', 'ak-47', 'grenade-launcher', 'bomb', 'hand-grenade', 'cannon', 'laser-cannon', 'laser-blaster', 'south-african', 'arms-dealer', 'artifact', 'drugged-drink', 'throat-slit', 'ambulance', 'airplane-crash', 'bar', 'old-flame', 'aid-worker', 'jungle', 'woods', 'forest', 'armored-car', 'invisibility', 'dreadlocks', 'fear', 'danger', 'van', 'armory', 'fake-accent', 'reference-to-disneyland', 'reference-to-grace-jones', 'bodyguard', 'abandoned-airplane', 'ambush', 'walkie-talkie', 'news-report', 'comic-relief', 'reference-to-the-wizard-of-oz', 'handcuffs', 'tied-to-a-chair', 'interrogation', 'two-way-mirror', 'bullet-wound', 'surgery', 'sabotage', 'kidnapping', 'alley', 'farmer', 'farm', 'mission', 'rescue-mission', 'secret-agent', 'politician', 'palace', 'tragic-past', 'dark-past', 'amputee', 'returning-character-killed-off', 'sequel', 'haunted-by-the-past', 'ex-pilot', 'race-against-time', 'tree', 'war-paint', 'diplomat', 'secrecy', 'secret', 'helmet', 'face-mask', 'written-by-director', 'reference-to-ebay', 'little-boy', 'challenge', 'body-bag', 'bombardment', 'beard', 'conspiracy', 'remote-control-car', 'idealism', 'mineral', 'racial-slur', 'fighting-the-system', 'poison', 'dictator', 'tyrant', 'nanotechnology', 'audio-surveillance', 'protector', 'elevator', 'cargo-plane', 'henchman', 'honor', 'meteor', 'extremism', 'extremist', 'shockwave', 'suspense', 'innovative', 'visionary', 'radical', 'exhibit', 'exhibition', 'gallery', 'hovering', 'robbery', 'attack', 'chasing', 'high-speed', 'amazon', 'library', 'fighter', 'close-encounter', 'close-combat', 'guardian', 'fearless', 'inscription', 'jet', 'jet-engine', 'champion', 'laceration', 'wounded-in-battle', 'celebration', 'heir', 'victor', 'crown', 'ceremony', 'inauguration', 'crowning', 'wartime', 'appointment', 'avenue', 'road', 'dance', 'tribal', 'tribal-dance', 'initiation', 'defender', 'long-take', 'necklace', 'glass-case', 'authority', 'cityscape', 'city-view', 'succession', 'tv-news', 'high-rise', 'skirt', 'skyscraper', 'reference-to-the-united-nations', 'body-suit', 'mole', 'urban-setting', 'hair-bun', 'imperialism', 'bearded-man', 'french-kiss', 'hacking', 'expert', 'breaking-glass', 'thief', 'plot', 'body-paint', 'pool', 'hoop-earrings', 'bare-midriff', 'visible-midriff', 'huge-hoop-earrings', 'mask', 'mist', 'cheer', 'cheering-audience', 'grinding', 'proclamation', 'potion', 'statue', 'goatee', 'prequel', 'desert', 'landing-pad', 'talking-to-the-dead', 'train', 'elevated-train', 'elevated-train-track', 'bazaar', 'labourer', 'high-collar', 'hills', 'taking-to-dead-father', \"talking-to-one's-dead-father\", 'elevated-railway', 'monitor', 'out-of-bullets', 'african-in-south-korea', 'visor', 'secret-entrance', 'cleavage', 'gambling', 'contoured-beard', 'convoy', 'suitcase', 'wig', 'taking-cover', 'hiding-behind-a-table', 'south-korean', 'bulletproof', 'armored-vehicle', 'shaved-head', 'on-ramp', 'highway-chase', 'set-up', 'virtual-technology', 'former-lover', 'cave', 'cocktail-waitress', 'tattooed-man', 'drums', 'drummer', 'ritual-drums', 'blood-smeared-on-face', 'shovel', 'grieving-son', 'embrace', 'kneeling', 'hut', 'chips', 'barbecue', 'feeding-an-animal', 'street-vendor', 'vendor', 'south-korean-woman', 'south-korean-man', 'doorman', 'metal-detector', 'spear-in-foot', 'spear-in-chest', 'slit-skirt', 'street-racing', 'red-light', 'jumping-onto-the-hood-of-a-car', 'cracked-glass', 'toyota', 'lexus', 'tattooed-head', 'running-a-red-light', 'barefoot-woman', 'mobile-phone', 'facial-scar', 'interrogation-chamber', 'beast', 'sickle', 'facial-cut', 'meteorite', 'myth', 'tribal-war', 'impaled-by-a-spear', 'thrown-off-a-cliff', 'pickup-truck', 'gun-held-to-head', 'choke-hold', 'teasing', 'obscene-finger-gesture', 'tribal-mask', 'archaeological-museum', 'aerial-drone', 'lip-disk', 'surrender', 'power-struggle', 'terror-attack', 'aurora-borealis', 'playing-basketball', 'wearing-ear-disks', 'armored-rhinoceros', 'sandal', 'playing-craps', 'invisible-car', 'riding-on-top-of-a-car', 'bulletproof-car', 'bulletproof-clothing', 'car-rollover', 'severed-arm', 'shot-in-the-belly', 'magnetic-levitation-train', 'protectiveness', 'shared-universe', 'cousin-versus-cousin', 'supervillain', 'weapons-fire', 'male-cousin', 'handcuffed-to-a-chair', 'panel-van', 'male-warrior', 'communications-device', 'intelligence-operative', 'one-armed-man', 'bladed-weapon', 'weapon', 'aircraft', 'handheld-weapon', 'diamond', 'briefcase', 'eccentricity', 'eyeglasses', 'arms-crossed', 'sneakers', 'recorder', 'arm-in-arm', 'craps', 'craps-table', 'cameo-appearance', 'win-at-craps', 'hidden-in-pants', 'disarms-the-bad-guy', 'artificial-arm', 'mechanical-arm', 'virtual-driving-car', 'riding-on-car-hood', 'illuminated-bridge', 'car-implodes', 'riding-shotgun', 'rips-artificial-arm-out-of-joint', 'restrained-in-chair', \"bad-guy-sings-don't-hurt-me\", 'conversation-on-intercom-system', 'breakout', 'loaded-into-back-of-van', 'bucky-barnes-character', 'winter-soldier-character', 'man-murders-a-woman', 'man-wears-eyeglasses', 'woman-murders-a-man', 'heroine', 'speeding-vehicle', 'car', 'motor-vehicle', 'suv', 'ring-on-a-chain', 'shuri-character', 'recording-on-a-cell-phone', 'raised-middle-finger', 'reference-to-bonnie-and-clyde', 'co-written-by-director', 'masked-superhero', 'superhero-team', 'superhero-suit', 'rare-mineral', 'brother-murders-brother', 'cell-phone', 'ex-boyfriend-ex-girlfriend-relationship', 'vehicle', 'cult-film', 'billion-dollar-club', 'infinity-saga', 'everett-k.-ross-character', 'male-protagonist', 'sequel-baiting', 'action-girl', 'woman-wears-hoop-earrings', 'aerial-camera-shot', 'terrorism', 'nightclub', 'surrealism', 'psychotronic-film', 'cia-central-intelligence-agency', 'famous-score', 'famous-song', '1990s', 'emergency-response-vehicle', 'body-lands-on-a-car', \"character-repeats-someone-else's-dialogue\", 'african-mask', 'african-art', 'african-mask-art', 'african-art-collection', 'african-mask-collection', 'superhero-adventure', 'kiss-on-the-lips', 'superhero-sci-fi', 'bloody-face', 'cousin-cousin-relationship', 'hugging', 'kicking', 'knocked-unconscious', 'murder-of-an-innocent-person', 'marvel', 'superhero-villain', 'fictional-country', \"t'challa-character\", 'first-part', 'headbutt', 'scar-on-the-forehead', 'return-home', '3d', '3-dimensional', 'death-of-king', 'close-quarters-combat', 'surprise-ending', 'tough-guy', 'tough-girl', 'metal', 'punched-in-the-face', 'punched-in-the-chest', 'beaten-to-death', 'mine', 'politics', 'basketball', 'family-relationships', 'uncle-nephew-relationship', 'brother-brother-relationship', 'mother-daughter-relationship', 'club', 'electromagnetic-pulse', 'female-agent', 'social-commentary', 'future', 'taking-off-shirt', 'speaking-with-an-accent', 'decorative-scarring', 'actor-reprises-previous-role']\n"
     ]
    }
   ],
   "source": [
    "black_panther = ia.get_movie('1825683', info='keywords')\n",
    "print(black_panther['keywords'])"
   ]
  },
  {
   "cell_type": "code",
   "execution_count": 19,
   "metadata": {},
   "outputs": [
    {
     "name": "stderr",
     "output_type": "stream",
     "text": [
      "  0%|                                                     | 0/9 [00:00<?, ?it/s]2023-03-29 15:37:31,254 CRITICAL [imdbpy] /Users/tatianakalainoff/opt/anaconda3/lib/python3.8/site-packages/imdb/_exceptions.py:32: IMDbDataAccessError exception raised; args: ({'errcode': None, 'errmsg': 'None', 'url': 'https://www.imdb.com/title/tt/keywords', 'proxy': '', 'exception type': 'IOError', 'original exception': <HTTPError 404: ''>},); kwds: {}\n",
      "Traceback (most recent call last):\n",
      "  File \"/Users/tatianakalainoff/opt/anaconda3/lib/python3.8/site-packages/imdb/parser/http/__init__.py\", line 233, in retrieve_unicode\n",
      "    response = uopener.open(url)\n",
      "  File \"/Users/tatianakalainoff/opt/anaconda3/lib/python3.8/urllib/request.py\", line 531, in open\n",
      "    response = meth(req, response)\n",
      "  File \"/Users/tatianakalainoff/opt/anaconda3/lib/python3.8/urllib/request.py\", line 640, in http_response\n",
      "    response = self.parent.error(\n",
      "  File \"/Users/tatianakalainoff/opt/anaconda3/lib/python3.8/urllib/request.py\", line 569, in error\n",
      "    return self._call_chain(*args)\n",
      "  File \"/Users/tatianakalainoff/opt/anaconda3/lib/python3.8/urllib/request.py\", line 502, in _call_chain\n",
      "    result = func(*args)\n",
      "  File \"/Users/tatianakalainoff/opt/anaconda3/lib/python3.8/urllib/request.py\", line 649, in http_error_default\n",
      "    raise HTTPError(req.full_url, code, msg, hdrs, fp)\n",
      "urllib.error.HTTPError: HTTP Error 404: \n",
      " 11%|█████                                        | 1/9 [00:01<00:08,  1.09s/it]2023-03-29 15:37:32,340 CRITICAL [imdbpy] /Users/tatianakalainoff/opt/anaconda3/lib/python3.8/site-packages/imdb/_exceptions.py:32: IMDbDataAccessError exception raised; args: ({'errcode': None, 'errmsg': 'None', 'url': 'https://www.imdb.com/title/tt/keywords', 'proxy': '', 'exception type': 'IOError', 'original exception': <HTTPError 404: ''>},); kwds: {}\n",
      "Traceback (most recent call last):\n",
      "  File \"/Users/tatianakalainoff/opt/anaconda3/lib/python3.8/site-packages/imdb/parser/http/__init__.py\", line 233, in retrieve_unicode\n",
      "    response = uopener.open(url)\n",
      "  File \"/Users/tatianakalainoff/opt/anaconda3/lib/python3.8/urllib/request.py\", line 531, in open\n",
      "    response = meth(req, response)\n",
      "  File \"/Users/tatianakalainoff/opt/anaconda3/lib/python3.8/urllib/request.py\", line 640, in http_response\n",
      "    response = self.parent.error(\n",
      "  File \"/Users/tatianakalainoff/opt/anaconda3/lib/python3.8/urllib/request.py\", line 569, in error\n",
      "    return self._call_chain(*args)\n",
      "  File \"/Users/tatianakalainoff/opt/anaconda3/lib/python3.8/urllib/request.py\", line 502, in _call_chain\n",
      "    result = func(*args)\n",
      "  File \"/Users/tatianakalainoff/opt/anaconda3/lib/python3.8/urllib/request.py\", line 649, in http_error_default\n",
      "    raise HTTPError(req.full_url, code, msg, hdrs, fp)\n",
      "urllib.error.HTTPError: HTTP Error 404: \n",
      " 22%|██████████                                   | 2/9 [00:02<00:07,  1.08s/it]2023-03-29 15:37:33,420 CRITICAL [imdbpy] /Users/tatianakalainoff/opt/anaconda3/lib/python3.8/site-packages/imdb/_exceptions.py:32: IMDbDataAccessError exception raised; args: ({'errcode': None, 'errmsg': 'None', 'url': 'https://www.imdb.com/title/tt/keywords', 'proxy': '', 'exception type': 'IOError', 'original exception': <HTTPError 404: ''>},); kwds: {}\n",
      "Traceback (most recent call last):\n",
      "  File \"/Users/tatianakalainoff/opt/anaconda3/lib/python3.8/site-packages/imdb/parser/http/__init__.py\", line 233, in retrieve_unicode\n",
      "    response = uopener.open(url)\n",
      "  File \"/Users/tatianakalainoff/opt/anaconda3/lib/python3.8/urllib/request.py\", line 531, in open\n",
      "    response = meth(req, response)\n",
      "  File \"/Users/tatianakalainoff/opt/anaconda3/lib/python3.8/urllib/request.py\", line 640, in http_response\n",
      "    response = self.parent.error(\n",
      "  File \"/Users/tatianakalainoff/opt/anaconda3/lib/python3.8/urllib/request.py\", line 569, in error\n",
      "    return self._call_chain(*args)\n",
      "  File \"/Users/tatianakalainoff/opt/anaconda3/lib/python3.8/urllib/request.py\", line 502, in _call_chain\n",
      "    result = func(*args)\n",
      "  File \"/Users/tatianakalainoff/opt/anaconda3/lib/python3.8/urllib/request.py\", line 649, in http_error_default\n",
      "    raise HTTPError(req.full_url, code, msg, hdrs, fp)\n",
      "urllib.error.HTTPError: HTTP Error 404: \n",
      " 33%|███████████████                              | 3/9 [00:03<00:06,  1.08s/it]2023-03-29 15:37:34,521 CRITICAL [imdbpy] /Users/tatianakalainoff/opt/anaconda3/lib/python3.8/site-packages/imdb/_exceptions.py:32: IMDbDataAccessError exception raised; args: ({'errcode': None, 'errmsg': 'None', 'url': 'https://www.imdb.com/title/tt/keywords', 'proxy': '', 'exception type': 'IOError', 'original exception': <HTTPError 404: ''>},); kwds: {}\n",
      "Traceback (most recent call last):\n",
      "  File \"/Users/tatianakalainoff/opt/anaconda3/lib/python3.8/site-packages/imdb/parser/http/__init__.py\", line 233, in retrieve_unicode\n",
      "    response = uopener.open(url)\n",
      "  File \"/Users/tatianakalainoff/opt/anaconda3/lib/python3.8/urllib/request.py\", line 531, in open\n",
      "    response = meth(req, response)\n",
      "  File \"/Users/tatianakalainoff/opt/anaconda3/lib/python3.8/urllib/request.py\", line 640, in http_response\n",
      "    response = self.parent.error(\n",
      "  File \"/Users/tatianakalainoff/opt/anaconda3/lib/python3.8/urllib/request.py\", line 569, in error\n",
      "    return self._call_chain(*args)\n",
      "  File \"/Users/tatianakalainoff/opt/anaconda3/lib/python3.8/urllib/request.py\", line 502, in _call_chain\n",
      "    result = func(*args)\n",
      "  File \"/Users/tatianakalainoff/opt/anaconda3/lib/python3.8/urllib/request.py\", line 649, in http_error_default\n",
      "    raise HTTPError(req.full_url, code, msg, hdrs, fp)\n",
      "urllib.error.HTTPError: HTTP Error 404: \n",
      " 44%|████████████████████                         | 4/9 [00:04<00:05,  1.09s/it]2023-03-29 15:37:35,652 CRITICAL [imdbpy] /Users/tatianakalainoff/opt/anaconda3/lib/python3.8/site-packages/imdb/_exceptions.py:32: IMDbDataAccessError exception raised; args: ({'errcode': None, 'errmsg': 'None', 'url': 'https://www.imdb.com/title/tt/keywords', 'proxy': '', 'exception type': 'IOError', 'original exception': <HTTPError 404: ''>},); kwds: {}\n",
      "Traceback (most recent call last):\n",
      "  File \"/Users/tatianakalainoff/opt/anaconda3/lib/python3.8/site-packages/imdb/parser/http/__init__.py\", line 233, in retrieve_unicode\n",
      "    response = uopener.open(url)\n",
      "  File \"/Users/tatianakalainoff/opt/anaconda3/lib/python3.8/urllib/request.py\", line 531, in open\n",
      "    response = meth(req, response)\n",
      "  File \"/Users/tatianakalainoff/opt/anaconda3/lib/python3.8/urllib/request.py\", line 640, in http_response\n",
      "    response = self.parent.error(\n",
      "  File \"/Users/tatianakalainoff/opt/anaconda3/lib/python3.8/urllib/request.py\", line 569, in error\n",
      "    return self._call_chain(*args)\n",
      "  File \"/Users/tatianakalainoff/opt/anaconda3/lib/python3.8/urllib/request.py\", line 502, in _call_chain\n",
      "    result = func(*args)\n",
      "  File \"/Users/tatianakalainoff/opt/anaconda3/lib/python3.8/urllib/request.py\", line 649, in http_error_default\n",
      "    raise HTTPError(req.full_url, code, msg, hdrs, fp)\n",
      "urllib.error.HTTPError: HTTP Error 404: \n",
      " 56%|█████████████████████████                    | 5/9 [00:05<00:04,  1.10s/it]2023-03-29 15:37:36,738 CRITICAL [imdbpy] /Users/tatianakalainoff/opt/anaconda3/lib/python3.8/site-packages/imdb/_exceptions.py:32: IMDbDataAccessError exception raised; args: ({'errcode': None, 'errmsg': 'None', 'url': 'https://www.imdb.com/title/tt/keywords', 'proxy': '', 'exception type': 'IOError', 'original exception': <HTTPError 404: ''>},); kwds: {}\n",
      "Traceback (most recent call last):\n",
      "  File \"/Users/tatianakalainoff/opt/anaconda3/lib/python3.8/site-packages/imdb/parser/http/__init__.py\", line 233, in retrieve_unicode\n",
      "    response = uopener.open(url)\n",
      "  File \"/Users/tatianakalainoff/opt/anaconda3/lib/python3.8/urllib/request.py\", line 531, in open\n",
      "    response = meth(req, response)\n",
      "  File \"/Users/tatianakalainoff/opt/anaconda3/lib/python3.8/urllib/request.py\", line 640, in http_response\n",
      "    response = self.parent.error(\n",
      "  File \"/Users/tatianakalainoff/opt/anaconda3/lib/python3.8/urllib/request.py\", line 569, in error\n",
      "    return self._call_chain(*args)\n",
      "  File \"/Users/tatianakalainoff/opt/anaconda3/lib/python3.8/urllib/request.py\", line 502, in _call_chain\n",
      "    result = func(*args)\n",
      "  File \"/Users/tatianakalainoff/opt/anaconda3/lib/python3.8/urllib/request.py\", line 649, in http_error_default\n",
      "    raise HTTPError(req.full_url, code, msg, hdrs, fp)\n",
      "urllib.error.HTTPError: HTTP Error 404: \n"
     ]
    },
    {
     "name": "stderr",
     "output_type": "stream",
     "text": [
      " 67%|██████████████████████████████               | 6/9 [00:06<00:03,  1.10s/it]2023-03-29 15:37:37,823 CRITICAL [imdbpy] /Users/tatianakalainoff/opt/anaconda3/lib/python3.8/site-packages/imdb/_exceptions.py:32: IMDbDataAccessError exception raised; args: ({'errcode': None, 'errmsg': 'None', 'url': 'https://www.imdb.com/title/tt/keywords', 'proxy': '', 'exception type': 'IOError', 'original exception': <HTTPError 404: ''>},); kwds: {}\n",
      "Traceback (most recent call last):\n",
      "  File \"/Users/tatianakalainoff/opt/anaconda3/lib/python3.8/site-packages/imdb/parser/http/__init__.py\", line 233, in retrieve_unicode\n",
      "    response = uopener.open(url)\n",
      "  File \"/Users/tatianakalainoff/opt/anaconda3/lib/python3.8/urllib/request.py\", line 531, in open\n",
      "    response = meth(req, response)\n",
      "  File \"/Users/tatianakalainoff/opt/anaconda3/lib/python3.8/urllib/request.py\", line 640, in http_response\n",
      "    response = self.parent.error(\n",
      "  File \"/Users/tatianakalainoff/opt/anaconda3/lib/python3.8/urllib/request.py\", line 569, in error\n",
      "    return self._call_chain(*args)\n",
      "  File \"/Users/tatianakalainoff/opt/anaconda3/lib/python3.8/urllib/request.py\", line 502, in _call_chain\n",
      "    result = func(*args)\n",
      "  File \"/Users/tatianakalainoff/opt/anaconda3/lib/python3.8/urllib/request.py\", line 649, in http_error_default\n",
      "    raise HTTPError(req.full_url, code, msg, hdrs, fp)\n",
      "urllib.error.HTTPError: HTTP Error 404: \n",
      " 78%|███████████████████████████████████          | 7/9 [00:07<00:02,  1.09s/it]2023-03-29 15:37:38,909 CRITICAL [imdbpy] /Users/tatianakalainoff/opt/anaconda3/lib/python3.8/site-packages/imdb/_exceptions.py:32: IMDbDataAccessError exception raised; args: ({'errcode': None, 'errmsg': 'None', 'url': 'https://www.imdb.com/title/tt/keywords', 'proxy': '', 'exception type': 'IOError', 'original exception': <HTTPError 404: ''>},); kwds: {}\n",
      "Traceback (most recent call last):\n",
      "  File \"/Users/tatianakalainoff/opt/anaconda3/lib/python3.8/site-packages/imdb/parser/http/__init__.py\", line 233, in retrieve_unicode\n",
      "    response = uopener.open(url)\n",
      "  File \"/Users/tatianakalainoff/opt/anaconda3/lib/python3.8/urllib/request.py\", line 531, in open\n",
      "    response = meth(req, response)\n",
      "  File \"/Users/tatianakalainoff/opt/anaconda3/lib/python3.8/urllib/request.py\", line 640, in http_response\n",
      "    response = self.parent.error(\n",
      "  File \"/Users/tatianakalainoff/opt/anaconda3/lib/python3.8/urllib/request.py\", line 569, in error\n",
      "    return self._call_chain(*args)\n",
      "  File \"/Users/tatianakalainoff/opt/anaconda3/lib/python3.8/urllib/request.py\", line 502, in _call_chain\n",
      "    result = func(*args)\n",
      "  File \"/Users/tatianakalainoff/opt/anaconda3/lib/python3.8/urllib/request.py\", line 649, in http_error_default\n",
      "    raise HTTPError(req.full_url, code, msg, hdrs, fp)\n",
      "urllib.error.HTTPError: HTTP Error 404: \n",
      " 89%|████████████████████████████████████████     | 8/9 [00:08<00:01,  1.09s/it]2023-03-29 15:37:40,008 CRITICAL [imdbpy] /Users/tatianakalainoff/opt/anaconda3/lib/python3.8/site-packages/imdb/_exceptions.py:32: IMDbDataAccessError exception raised; args: ({'errcode': None, 'errmsg': 'None', 'url': 'https://www.imdb.com/title/tt/keywords', 'proxy': '', 'exception type': 'IOError', 'original exception': <HTTPError 404: ''>},); kwds: {}\n",
      "Traceback (most recent call last):\n",
      "  File \"/Users/tatianakalainoff/opt/anaconda3/lib/python3.8/site-packages/imdb/parser/http/__init__.py\", line 233, in retrieve_unicode\n",
      "    response = uopener.open(url)\n",
      "  File \"/Users/tatianakalainoff/opt/anaconda3/lib/python3.8/urllib/request.py\", line 531, in open\n",
      "    response = meth(req, response)\n",
      "  File \"/Users/tatianakalainoff/opt/anaconda3/lib/python3.8/urllib/request.py\", line 640, in http_response\n",
      "    response = self.parent.error(\n",
      "  File \"/Users/tatianakalainoff/opt/anaconda3/lib/python3.8/urllib/request.py\", line 569, in error\n",
      "    return self._call_chain(*args)\n",
      "  File \"/Users/tatianakalainoff/opt/anaconda3/lib/python3.8/urllib/request.py\", line 502, in _call_chain\n",
      "    result = func(*args)\n",
      "  File \"/Users/tatianakalainoff/opt/anaconda3/lib/python3.8/urllib/request.py\", line 649, in http_error_default\n",
      "    raise HTTPError(req.full_url, code, msg, hdrs, fp)\n",
      "urllib.error.HTTPError: HTTP Error 404: \n",
      "100%|█████████████████████████████████████████████| 9/9 [00:09<00:00,  1.09s/it]\n"
     ]
    }
   ],
   "source": [
    "keywords_dict = {}\n",
    "for tvSerie_index in tqdm(tvSeries_index):\n",
    "    sleep(1)\n",
    "    try:\n",
    "        keywords_dict[tvSerie_index] = ia.get_movie_keywords(tvSerie_index[2:])['data']['keywords']\n",
    "    except:\n",
    "        keywords_dict[tvSerie_index] = ''   \n",
    "        \n",
    "keywords = pd.DataFrame(dict([ (k,pd.Series(v)) for k,v in keywords_dict.items() ])).transpose()\n",
    "keywords = keywords.apply(lambda x: ','.join(x.dropna()), axis=1)\n",
    "keywords = pd.DataFrame(keywords)\n",
    "keywords.rename(columns={0:'keywords'}, inplace=True)"
   ]
  },
  {
   "cell_type": "code",
   "execution_count": 22,
   "metadata": {},
   "outputs": [
    {
     "name": "stderr",
     "output_type": "stream",
     "text": [
      "100%|█████████████████████████████████████████████| 9/9 [00:09<00:00,  1.01s/it]\n"
     ]
    }
   ],
   "source": [
    "keywords_dict = {}\n",
    "for tvSeries_index in tqdm(tvSeries_index):\n",
    "    sleep(1)\n",
    "    try:\n",
    "        keywords_dict[tvSeries_index] = ia.get_tvSeries_keywords(tvSeries_index[2:])['data']['keywords']\n",
    "    except:\n",
    "        keywords_dict[tvSeries_index] = ''   "
   ]
  },
  {
   "cell_type": "code",
   "execution_count": 24,
   "metadata": {},
   "outputs": [
    {
     "name": "stdout",
     "output_type": "stream",
     "text": [
      "dict_values(['', '', '', '', '', ''])\n"
     ]
    }
   ],
   "source": [
    "print(keywords_dict.values())"
   ]
  },
  {
   "cell_type": "code",
   "execution_count": null,
   "metadata": {},
   "outputs": [],
   "source": [
    "### Returns keys, but keywords is blank"
   ]
  },
  {
   "cell_type": "code",
   "execution_count": 12,
   "metadata": {},
   "outputs": [
    {
     "name": "stderr",
     "output_type": "stream",
     "text": [
      "100%|███████████████████████████████████████| 1000/1000 [16:46<00:00,  1.01s/it]\n"
     ]
    }
   ],
   "source": [
    "keywords_dict = {}\n",
    "for tvSeries_index in tqdm(tvSeries_index):\n",
    "    sleep(1)\n",
    "    try:\n",
    "        keywords_dict[tvSeries_index] = ia.get_tvSeries_keywords(tvSeries_index[2:])['data']['keywords']\n",
    "    except:\n",
    "        keywords_dict[tvSeries_index] = ''   \n",
    "        \n",
    "keywords = pd.DataFrame(dict([ (k,pd.Series(v)) for k,v in keywords_dict.items() ])).transpose()\n",
    "keywords = keywords.apply(lambda x: ','.join(x.dropna()), axis=1)\n",
    "keywords = pd.DataFrame(keywords)\n",
    "keywords.rename(columns={0:'keywords'}, inplace=True)"
   ]
  },
  {
   "cell_type": "code",
   "execution_count": 14,
   "metadata": {},
   "outputs": [
    {
     "name": "stdout",
     "output_type": "stream",
     "text": [
      "           keywords\n",
      "tt0944947          \n",
      "tt0903747          \n",
      "tt4574334          \n",
      "tt1520211          \n",
      "tt0108778          \n",
      "...             ...\n",
      "tt10577736         \n",
      "tt1826805          \n",
      "tt2379308          \n",
      "tt0158417          \n",
      "tt5607616          \n",
      "\n",
      "[1000 rows x 1 columns]\n"
     ]
    }
   ],
   "source": [
    "print(keywords)"
   ]
  },
  {
   "cell_type": "code",
   "execution_count": null,
   "metadata": {},
   "outputs": [],
   "source": [
    "# Save the plots to a CSV\n",
    "keywords.to_csv(path_or_buf='data/keywords_s.csv')"
   ]
  },
  {
   "cell_type": "code",
   "execution_count": null,
   "metadata": {},
   "outputs": [],
   "source": [
    "# Load our keywords for the CSV\n",
    "keywords = pd.read_csv('data/keywords_s.csv')\n",
    "keywords.rename(columns={'Unnamed: 0':'tconst'}, inplace=True)\n",
    "keywords.set_index('tconst', inplace=True)"
   ]
  },
  {
   "cell_type": "code",
   "execution_count": null,
   "metadata": {},
   "outputs": [],
   "source": [
    "# Join to our table\n",
    "tvSeries = top_1000_tvSeries.join(keywords, how='inner')"
   ]
  },
  {
   "cell_type": "code",
   "execution_count": null,
   "metadata": {},
   "outputs": [],
   "source": [
    "# Save our dataframe to a CSV if you don't want to re-run the loop\n",
    "tvSeries.to_csv(path_or_buf='data/tvSeries_keywords.csv')"
   ]
  },
  {
   "cell_type": "markdown",
   "metadata": {},
   "source": [
    "## Keyword EDA"
   ]
  },
  {
   "cell_type": "code",
   "execution_count": null,
   "metadata": {},
   "outputs": [],
   "source": [
    "# Import movies table and set the index if you need\n",
    "# movies = pd.read_csv('Blog Post/movies_keywords.csv')\n",
    "# movies.set_index('tconst', inplace=True)"
   ]
  },
  {
   "cell_type": "code",
   "execution_count": null,
   "metadata": {},
   "outputs": [],
   "source": [
    "movies = movies[movies.keywords.notnull()]"
   ]
  },
  {
   "cell_type": "code",
   "execution_count": null,
   "metadata": {},
   "outputs": [],
   "source": [
    "import matplotlib.pyplot as plt\n",
    "import seaborn as sns\n",
    "sns.set()"
   ]
  },
  {
   "cell_type": "code",
   "execution_count": null,
   "metadata": {},
   "outputs": [],
   "source": [
    "number_of_keyword_chars = []\n",
    "for keywords in movies['keywords']:#[:1000]:\n",
    "    n_chars = len(keywords)\n",
    "    number_of_keyword_chars.append(n_chars)\n",
    "\n",
    "\n",
    "plt.hist(number_of_keyword_chars)\n",
    "plt.xlabel('number of characters in keywords column')\n",
    "plt.ylabel('number of movies')\n",
    "plt.show()"
   ]
  },
  {
   "cell_type": "code",
   "execution_count": null,
   "metadata": {},
   "outputs": [],
   "source": [
    "print(\"keywords: %.3f\" %(np.mean(movies['keywords'].str.len())) )"
   ]
  },
  {
   "cell_type": "code",
   "execution_count": null,
   "metadata": {},
   "outputs": [],
   "source": [
    "number_of_keywords = []\n",
    "for keywords in movies['keywords']:\n",
    "    n_keywords = len(keywords.split(','))\n",
    "    number_of_keywords.append(n_keywords)\n",
    "\n",
    "plt.hist(number_of_keywords)\n",
    "plt.xlabel('number of words in keywords column')\n",
    "plt.ylabel('number of movies')\n",
    "plt.show()"
   ]
  },
  {
   "cell_type": "code",
   "execution_count": null,
   "metadata": {},
   "outputs": [],
   "source": [
    "keyword_lengths = []\n",
    "for keywords in movies['keywords']:\n",
    "    keywords = keywords.split(',')\n",
    "    for keyword in keywords:\n",
    "        keyword_lengths.append(len(keyword))\n",
    "        \n",
    "plt.hist(keyword_lengths)\n",
    "plt.xlabel('length of words in keywords by number of characters')\n",
    "plt.ylabel('number of words')\n",
    "plt.show()"
   ]
  },
  {
   "cell_type": "markdown",
   "metadata": {},
   "source": [
    "## Modelling"
   ]
  },
  {
   "cell_type": "code",
   "execution_count": null,
   "metadata": {},
   "outputs": [],
   "source": [
    "# Import movies table and set the index\n",
    "#movies = pd.read_csv('Blog Post/movies_keywords.csv')"
   ]
  },
  {
   "cell_type": "code",
   "execution_count": null,
   "metadata": {},
   "outputs": [],
   "source": [
    "movies.reset_index(inplace=True)\n",
    "movies = movies[['primaryTitle', 'keywords']]"
   ]
  },
  {
   "cell_type": "code",
   "execution_count": null,
   "metadata": {},
   "outputs": [],
   "source": [
    "# Processing Keywords\n",
    "keywords = movies['keywords'].tolist()\n",
    "\n",
    "from nltk.tokenize import word_tokenize\n",
    "keywords = [word_tokenize(keyword.lower()) for keyword in keywords]\n",
    "\n",
    "def no_commas(doc):\n",
    "    no_commas = [t for t in doc if t!=',']\n",
    "    return(no_commas)\n",
    "\n",
    "keywords = [no_commas(kw) for kw in keywords]\n",
    "processed_keywords = keywords"
   ]
  },
  {
   "cell_type": "code",
   "execution_count": null,
   "metadata": {},
   "outputs": [],
   "source": [
    "#To save processed keywords\n",
    "# import csv\n",
    "# with open('Blog Post/processed_keywords.csv', 'w') as csvFile:\n",
    "#     writer = csv.writer(csvFile)\n",
    "#     writer.writerows(processed_keywords)\n",
    "# csvFile.close()"
   ]
  },
  {
   "cell_type": "code",
   "execution_count": null,
   "metadata": {},
   "outputs": [],
   "source": [
    "# To import processed keywords\n",
    "# with open('Blog Post/processed_keywords.csv', 'r') as f:\n",
    "#     reader = csv.reader(f)\n",
    "#     processed_keywords = list(reader)\n",
    "# processed_keywords = processed_keywords[0::2] # get rid of empty lists"
   ]
  },
  {
   "cell_type": "markdown",
   "metadata": {},
   "source": [
    "### 1st Mode: tf-idf with cosine similarity"
   ]
  },
  {
   "cell_type": "code",
   "execution_count": null,
   "metadata": {},
   "outputs": [],
   "source": [
    "from gensim.corpora.dictionary import Dictionary\n",
    "dictionary = Dictionary(processed_keywords) # create a dictionary of words from our keywords\n",
    "\n",
    "corpus = [dictionary.doc2bow(doc) for doc in processed_keywords] \n",
    "#create corpus where the corpus is a bag of words for each document\n",
    "\n",
    "from gensim.models.tfidfmodel import TfidfModel\n",
    "tfidf = TfidfModel(corpus) #create tfidf model of the corpus\n",
    "\n",
    "from gensim.similarities import MatrixSimilarity\n",
    "# Create the similarity data structure. This is the most important part where we get the similarities between the movies.\n",
    "sims = MatrixSimilarity(tfidf[corpus], num_features=len(dictionary))"
   ]
  },
  {
   "cell_type": "code",
   "execution_count": null,
   "metadata": {},
   "outputs": [],
   "source": [
    "def movie_recommendation(movie_title, number_of_hits=5):\n",
    "    movie = movies.loc[movies.primaryTitle==movie_title] # get the movie row\n",
    "    keywords = movie['keywords'].iloc[0].split(',') #get the keywords as a Series (movie['keywords']),\n",
    "    # get just the keywords string ([0]), and then convert to a list of keywords (.split(',') )\n",
    "    query_doc = keywords #set the query_doc to the list of keywords\n",
    "    \n",
    "    query_doc_bow = dictionary.doc2bow(query_doc) # get a bag of words from the query_doc\n",
    "    query_doc_tfidf = tfidf[query_doc_bow] #convert the regular bag of words model to a tf-idf model where we have tuples\n",
    "    # of the movie ID and it's tf-idf value for the movie\n",
    "\n",
    "    similarity_array = sims[query_doc_tfidf] # get the array of similarity values between our movie and every other movie. \n",
    "    #So the length is the number of movies we have. To do this, we pass our list of tf-idf tuples to sims.\n",
    "\n",
    "    similarity_series = pd.Series(similarity_array.tolist(), index=movies.primaryTitle.values) #Convert to a Series\n",
    "    top_hits = similarity_series.sort_values(ascending=False)[1:number_of_hits+1] \n",
    "    #get the top matching results, i.e. most similar movies; start from index 1 because every movie is most similar to itself\n",
    "\n",
    "    #print the words with the highest tf-idf values for the provided movie:\n",
    "    sorted_tfidf_weights = sorted(tfidf[corpus[movie.index.values.tolist()[0]]], key=lambda w: w[1], reverse=True)\n",
    "    print('The top 5 words associated with this movie by tf-idf are: ')\n",
    "    for term_id, weight in sorted_tfidf_weights[:5]:\n",
    "        print(\" '%s' with a tf-idf score of %.3f\" %(dictionary.get(term_id), weight))\n",
    "    \n",
    "    # Print the top matching movies\n",
    "    print(\"Our top %s most similar movies for movie %s are:\" %(number_of_hits, movie_title))\n",
    "    for idx, (movie,score) in enumerate(zip(top_hits.index, top_hits)):\n",
    "        print(\"%d %s with a similarity score of %.3f\" %(idx+1, movie, score))"
   ]
  },
  {
   "cell_type": "code",
   "execution_count": null,
   "metadata": {},
   "outputs": [],
   "source": [
    "movie_recommendation('The Shawshank Redemption', 5)"
   ]
  },
  {
   "cell_type": "code",
   "execution_count": null,
   "metadata": {},
   "outputs": [],
   "source": [
    "def keywords_recommendation(keywords, number_of_hits):\n",
    "    query_doc_bow = dictionary.doc2bow(keywords) # get a bag of words from the query_doc\n",
    "    query_doc_tfidf = tfidf[query_doc_bow] #convert the regular bag of words model to a tf-idf model where we have tuples\n",
    "    # of the movie ID and it's tf-idf value for the movie\n",
    "\n",
    "    similarity_array = sims[query_doc_tfidf] # get the array of similarity values between our movie and every other movie. \n",
    "    #So the length is the number of movies we have. To do this, we pass our list of tf-idf tuples to sims.\n",
    "\n",
    "    similarity_series = pd.Series(similarity_array.tolist(), index=movies.primaryTitle.values) #Convert to a Series\n",
    "    top_hits = similarity_series.sort_values(ascending=False)[:number_of_hits] #get the top matching results, \n",
    "    # i.e. most similar movies\n",
    "\n",
    "    # Print the top matching movies\n",
    "    print(\"Our top %s most similar movies for the keywords %s are:\" %(number_of_hits, keywords))\n",
    "    for idx, (movie,score) in enumerate(zip(top_hits.index, top_hits)):\n",
    "        print(\"%d '%s' with a similarity score of %.3f\" %(idx+1, movie, score))"
   ]
  },
  {
   "cell_type": "code",
   "execution_count": null,
   "metadata": {},
   "outputs": [],
   "source": [
    "keywords_recommendation(['wrongful-imprisonment','escape-from-prison','based-on-the-works-of-stephen-king',\n",
    "                         'prison', 'voice-over-narration', 'caged-bird','reference-to-fort-hancock-texas','aria'], 5)"
   ]
  },
  {
   "cell_type": "markdown",
   "metadata": {},
   "source": [
    "### 2nd Model: Word counts with cosine similarity"
   ]
  },
  {
   "cell_type": "code",
   "execution_count": null,
   "metadata": {},
   "outputs": [],
   "source": [
    "from sklearn.feature_extraction.text import CountVectorizer\n",
    "def get_vectors(text):\n",
    "    vectorizer = CountVectorizer(text)\n",
    "    X = vectorizer.fit_transform(text).toarray()\n",
    "    return(X)\n",
    "vectors = get_vectors(movies.keywords.tolist())"
   ]
  },
  {
   "cell_type": "code",
   "execution_count": null,
   "metadata": {},
   "outputs": [],
   "source": [
    "from sklearn.metrics.pairwise import cosine_similarity\n",
    "\n",
    "def cosine_recommender(movie_title, number_of_hits=5):\n",
    "    movie_index = movies[movies.primaryTitle == movie_title].index.values[0]\n",
    "\n",
    "    cosines = []\n",
    "    for i in range(len(vectors)):\n",
    "        vector_list = [vectors[movie_index], vectors[i]]\n",
    "        cosines.append(cosine_similarity(vector_list)[0,1])\n",
    "\n",
    "    cosines = pd.Series(cosines)\n",
    "    index = cosines.nlargest(number_of_hits+1).index\n",
    "\n",
    "    matches = movies.loc[index]\n",
    "    for match,score in zip(matches['primaryTitle'][1:],cosines[index][1:]):\n",
    "        print(match,score )"
   ]
  },
  {
   "cell_type": "code",
   "execution_count": null,
   "metadata": {},
   "outputs": [],
   "source": [
    "cosine_recommender('The Shawshank Redemption')"
   ]
  },
  {
   "cell_type": "markdown",
   "metadata": {},
   "source": [
    "### 3rd Model: Jaccard Similarity"
   ]
  },
  {
   "cell_type": "code",
   "execution_count": null,
   "metadata": {},
   "outputs": [],
   "source": [
    "def get_jaccard_sim(str1, str2):\n",
    "    a = set(str1.split(','))\n",
    "    b = set(str2.split(','))\n",
    "    c = a.intersection(b)\n",
    "    return(float(len(c)) / (len(a) + len(b) - len(c)))\n",
    "\n",
    "def jaccard_recommender(movie_title, number_of_hits=5):\n",
    "    movie = movies[movies.primaryTitle==movie_title]\n",
    "    keyword_string = movie.keywords.iloc[0]\n",
    "\n",
    "    jaccards = []\n",
    "    for movie in movies['keywords']:\n",
    "        jaccards.append(get_jaccard_sim(keyword_string, movie))\n",
    "    jaccards = pd.Series(jaccards)\n",
    "    jaccards_index = jaccards.nlargest(number_of_hits+1).index\n",
    "    matches = movies.loc[jaccards_index]\n",
    "    for match,score in zip(matches['primaryTitle'][1:],jaccards[jaccards_index][1:]) :\n",
    "        print(match,score )"
   ]
  },
  {
   "cell_type": "code",
   "execution_count": null,
   "metadata": {},
   "outputs": [],
   "source": [
    "jaccard_recommender('The Shawshank Redemption')"
   ]
  },
  {
   "cell_type": "code",
   "execution_count": null,
   "metadata": {},
   "outputs": [],
   "source": []
  },
  {
   "cell_type": "code",
   "execution_count": null,
   "metadata": {},
   "outputs": [],
   "source": []
  },
  {
   "cell_type": "code",
   "execution_count": null,
   "metadata": {},
   "outputs": [],
   "source": []
  },
  {
   "cell_type": "code",
   "execution_count": null,
   "metadata": {},
   "outputs": [],
   "source": []
  }
 ],
 "metadata": {
  "kernelspec": {
   "display_name": "Python 3 (ipykernel)",
   "language": "python",
   "name": "python3"
  },
  "language_info": {
   "codemirror_mode": {
    "name": "ipython",
    "version": 3
   },
   "file_extension": ".py",
   "mimetype": "text/x-python",
   "name": "python",
   "nbconvert_exporter": "python",
   "pygments_lexer": "ipython3",
   "version": "3.8.5"
  }
 },
 "nbformat": 4,
 "nbformat_minor": 2
}
