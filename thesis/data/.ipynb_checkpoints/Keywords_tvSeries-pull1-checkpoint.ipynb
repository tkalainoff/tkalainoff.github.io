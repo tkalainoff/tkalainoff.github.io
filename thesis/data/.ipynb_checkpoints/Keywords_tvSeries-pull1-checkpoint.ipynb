{
 "cells": [
  {
   "cell_type": "markdown",
   "metadata": {},
   "source": [
    "# Getting TVSeries Keywords"
   ]
  },
  {
   "cell_type": "markdown",
   "metadata": {},
   "source": [
    "## Dataset Creation"
   ]
  },
  {
   "cell_type": "code",
   "execution_count": 3,
   "metadata": {},
   "outputs": [],
   "source": [
    "# Import libraries\n",
    "import pandas as pd\n",
    "import numpy as np"
   ]
  },
  {
   "cell_type": "code",
   "execution_count": 36,
   "metadata": {},
   "outputs": [
    {
     "name": "stderr",
     "output_type": "stream",
     "text": [
      "/var/folders/p1/hxp8xnvj1js_njxc2m724dpm0000gn/T/ipykernel_35122/1916371400.py:2: DtypeWarning: Columns (4) have mixed types. Specify dtype option on import or set low_memory=False.\n",
      "  title_basics = pd.read_csv('title.basics.tsv.gz', sep='\\t', header=0)\n"
     ]
    }
   ],
   "source": [
    "# Import 2 tables from IMDb datasets that we need\n",
    "title_basics = pd.read_csv('title.basics.tsv.gz', sep='\\t', header=0)\n",
    "title_ratings = pd.read_csv('title.ratings.tsv.gz', sep='\\t', header=0)"
   ]
  },
  {
   "cell_type": "code",
   "execution_count": 37,
   "metadata": {},
   "outputs": [],
   "source": [
    "# Select only movies from the title_basics table\n",
    "movies = title_basics[(title_basics.titleType == 'tvSeries')].copy()"
   ]
  },
  {
   "cell_type": "code",
   "execution_count": 38,
   "metadata": {},
   "outputs": [],
   "source": [
    "# Set the indicies for our 2 tables to the IMDb key for movies\n",
    "movies.set_index('tconst', inplace=True)\n",
    "title_ratings.set_index('tconst', inplace=True)\n",
    "# Joint the 2 tables by tconst, the IMDb key for all movies\n",
    "movies_with_rating = movies.join(title_ratings, how='inner')"
   ]
  },
  {
   "cell_type": "code",
   "execution_count": 39,
   "metadata": {
    "scrolled": true
   },
   "outputs": [
    {
     "data": {
      "text/html": [
       "<div>\n",
       "<style scoped>\n",
       "    .dataframe tbody tr th:only-of-type {\n",
       "        vertical-align: middle;\n",
       "    }\n",
       "\n",
       "    .dataframe tbody tr th {\n",
       "        vertical-align: top;\n",
       "    }\n",
       "\n",
       "    .dataframe thead th {\n",
       "        text-align: right;\n",
       "    }\n",
       "</style>\n",
       "<table border=\"1\" class=\"dataframe\">\n",
       "  <thead>\n",
       "    <tr style=\"text-align: right;\">\n",
       "      <th></th>\n",
       "      <th>titleType</th>\n",
       "      <th>primaryTitle</th>\n",
       "      <th>originalTitle</th>\n",
       "      <th>isAdult</th>\n",
       "      <th>startYear</th>\n",
       "      <th>endYear</th>\n",
       "      <th>runtimeMinutes</th>\n",
       "      <th>genres</th>\n",
       "      <th>averageRating</th>\n",
       "      <th>numVotes</th>\n",
       "    </tr>\n",
       "    <tr>\n",
       "      <th>tconst</th>\n",
       "      <th></th>\n",
       "      <th></th>\n",
       "      <th></th>\n",
       "      <th></th>\n",
       "      <th></th>\n",
       "      <th></th>\n",
       "      <th></th>\n",
       "      <th></th>\n",
       "      <th></th>\n",
       "      <th></th>\n",
       "    </tr>\n",
       "  </thead>\n",
       "  <tbody>\n",
       "    <tr>\n",
       "      <th>tt0035803</th>\n",
       "      <td>tvSeries</td>\n",
       "      <td>The German Weekly Review</td>\n",
       "      <td>Die Deutsche Wochenschau</td>\n",
       "      <td>0</td>\n",
       "      <td>1940</td>\n",
       "      <td>1945</td>\n",
       "      <td>12</td>\n",
       "      <td>Documentary,News</td>\n",
       "      <td>8.1</td>\n",
       "      <td>55</td>\n",
       "    </tr>\n",
       "    <tr>\n",
       "      <th>tt0039120</th>\n",
       "      <td>tvSeries</td>\n",
       "      <td>Americana</td>\n",
       "      <td>Americana</td>\n",
       "      <td>0</td>\n",
       "      <td>1947</td>\n",
       "      <td>1949</td>\n",
       "      <td>30</td>\n",
       "      <td>Family,Game-Show</td>\n",
       "      <td>3.0</td>\n",
       "      <td>15</td>\n",
       "    </tr>\n",
       "    <tr>\n",
       "      <th>tt0039123</th>\n",
       "      <td>tvSeries</td>\n",
       "      <td>Kraft Theatre</td>\n",
       "      <td>Kraft Television Theatre</td>\n",
       "      <td>0</td>\n",
       "      <td>1947</td>\n",
       "      <td>1958</td>\n",
       "      <td>60</td>\n",
       "      <td>Drama</td>\n",
       "      <td>8.1</td>\n",
       "      <td>199</td>\n",
       "    </tr>\n",
       "    <tr>\n",
       "      <th>tt0039125</th>\n",
       "      <td>tvSeries</td>\n",
       "      <td>Public Prosecutor</td>\n",
       "      <td>Public Prosecutor</td>\n",
       "      <td>0</td>\n",
       "      <td>1947</td>\n",
       "      <td>1951</td>\n",
       "      <td>20</td>\n",
       "      <td>Crime,Drama,Mystery</td>\n",
       "      <td>5.5</td>\n",
       "      <td>23</td>\n",
       "    </tr>\n",
       "    <tr>\n",
       "      <th>tt0040021</th>\n",
       "      <td>tvSeries</td>\n",
       "      <td>Actor's Studio</td>\n",
       "      <td>Actor's Studio</td>\n",
       "      <td>0</td>\n",
       "      <td>1948</td>\n",
       "      <td>1950</td>\n",
       "      <td>30</td>\n",
       "      <td>Drama</td>\n",
       "      <td>7.2</td>\n",
       "      <td>80</td>\n",
       "    </tr>\n",
       "    <tr>\n",
       "      <th>...</th>\n",
       "      <td>...</td>\n",
       "      <td>...</td>\n",
       "      <td>...</td>\n",
       "      <td>...</td>\n",
       "      <td>...</td>\n",
       "      <td>...</td>\n",
       "      <td>...</td>\n",
       "      <td>...</td>\n",
       "      <td>...</td>\n",
       "      <td>...</td>\n",
       "    </tr>\n",
       "    <tr>\n",
       "      <th>tt0350457</th>\n",
       "      <td>tvSeries</td>\n",
       "      <td>Skithouse</td>\n",
       "      <td>Skithouse</td>\n",
       "      <td>0</td>\n",
       "      <td>2003</td>\n",
       "      <td>2004</td>\n",
       "      <td>25</td>\n",
       "      <td>Comedy</td>\n",
       "      <td>6.8</td>\n",
       "      <td>171</td>\n",
       "    </tr>\n",
       "    <tr>\n",
       "      <th>tt0350459</th>\n",
       "      <td>tvSeries</td>\n",
       "      <td>Stjerne for en aften</td>\n",
       "      <td>Stjerne for en aften</td>\n",
       "      <td>0</td>\n",
       "      <td>2001</td>\n",
       "      <td>2005</td>\n",
       "      <td>\\N</td>\n",
       "      <td>Family,Music</td>\n",
       "      <td>5.0</td>\n",
       "      <td>8</td>\n",
       "    </tr>\n",
       "    <tr>\n",
       "      <th>tt0350460</th>\n",
       "      <td>tvSeries</td>\n",
       "      <td>Søndagsmagasinet</td>\n",
       "      <td>Søndagsmagasinet</td>\n",
       "      <td>0</td>\n",
       "      <td>1980</td>\n",
       "      <td>2006</td>\n",
       "      <td>\\N</td>\n",
       "      <td>News</td>\n",
       "      <td>7.4</td>\n",
       "      <td>11</td>\n",
       "    </tr>\n",
       "    <tr>\n",
       "      <th>tt0350462</th>\n",
       "      <td>tvSeries</td>\n",
       "      <td>Teleshop</td>\n",
       "      <td>Teleshop</td>\n",
       "      <td>0</td>\n",
       "      <td>1991</td>\n",
       "      <td>\\N</td>\n",
       "      <td>60</td>\n",
       "      <td>\\N</td>\n",
       "      <td>4.3</td>\n",
       "      <td>7</td>\n",
       "    </tr>\n",
       "    <tr>\n",
       "      <th>tt0350466</th>\n",
       "      <td>tvSeries</td>\n",
       "      <td>Viza za buducnost</td>\n",
       "      <td>Viza za buducnost</td>\n",
       "      <td>0</td>\n",
       "      <td>2002</td>\n",
       "      <td>2008</td>\n",
       "      <td>35</td>\n",
       "      <td>Comedy,Drama,Family</td>\n",
       "      <td>6.6</td>\n",
       "      <td>235</td>\n",
       "    </tr>\n",
       "  </tbody>\n",
       "</table>\n",
       "<p>15000 rows × 10 columns</p>\n",
       "</div>"
      ],
      "text/plain": [
       "          titleType              primaryTitle             originalTitle  \\\n",
       "tconst                                                                    \n",
       "tt0035803  tvSeries  The German Weekly Review  Die Deutsche Wochenschau   \n",
       "tt0039120  tvSeries                 Americana                 Americana   \n",
       "tt0039123  tvSeries             Kraft Theatre  Kraft Television Theatre   \n",
       "tt0039125  tvSeries         Public Prosecutor         Public Prosecutor   \n",
       "tt0040021  tvSeries            Actor's Studio            Actor's Studio   \n",
       "...             ...                       ...                       ...   \n",
       "tt0350457  tvSeries                 Skithouse                 Skithouse   \n",
       "tt0350459  tvSeries      Stjerne for en aften      Stjerne for en aften   \n",
       "tt0350460  tvSeries          Søndagsmagasinet          Søndagsmagasinet   \n",
       "tt0350462  tvSeries                  Teleshop                  Teleshop   \n",
       "tt0350466  tvSeries         Viza za buducnost         Viza za buducnost   \n",
       "\n",
       "          isAdult startYear endYear runtimeMinutes               genres  \\\n",
       "tconst                                                                    \n",
       "tt0035803       0      1940    1945             12     Documentary,News   \n",
       "tt0039120       0      1947    1949             30     Family,Game-Show   \n",
       "tt0039123       0      1947    1958             60                Drama   \n",
       "tt0039125       0      1947    1951             20  Crime,Drama,Mystery   \n",
       "tt0040021       0      1948    1950             30                Drama   \n",
       "...           ...       ...     ...            ...                  ...   \n",
       "tt0350457       0      2003    2004             25               Comedy   \n",
       "tt0350459       0      2001    2005             \\N         Family,Music   \n",
       "tt0350460       0      1980    2006             \\N                 News   \n",
       "tt0350462       0      1991      \\N             60                   \\N   \n",
       "tt0350466       0      2002    2008             35  Comedy,Drama,Family   \n",
       "\n",
       "           averageRating  numVotes  \n",
       "tconst                              \n",
       "tt0035803            8.1        55  \n",
       "tt0039120            3.0        15  \n",
       "tt0039123            8.1       199  \n",
       "tt0039125            5.5        23  \n",
       "tt0040021            7.2        80  \n",
       "...                  ...       ...  \n",
       "tt0350457            6.8       171  \n",
       "tt0350459            5.0         8  \n",
       "tt0350460            7.4        11  \n",
       "tt0350462            4.3         7  \n",
       "tt0350466            6.6       235  \n",
       "\n",
       "[15000 rows x 10 columns]"
      ]
     },
     "execution_count": 39,
     "metadata": {},
     "output_type": "execute_result"
    }
   ],
   "source": [
    "movies_with_rating.head(15000)"
   ]
  },
  {
   "cell_type": "markdown",
   "metadata": {},
   "source": [
    "### Get top 10,000 TVSeries + Filter from 1992-2022"
   ]
  },
  {
   "cell_type": "code",
   "execution_count": 40,
   "metadata": {},
   "outputs": [],
   "source": [
    "# Take only the top 10,000 movies, where we rank movies by the number of votes they have received\n",
    "movies_sorted_by_rank = movies_with_rating.sort_values(by=['numVotes'], ascending=False)[:10000]"
   ]
  },
  {
   "cell_type": "code",
   "execution_count": 41,
   "metadata": {},
   "outputs": [
    {
     "data": {
      "text/plain": [
       "10000"
      ]
     },
     "execution_count": 41,
     "metadata": {},
     "output_type": "execute_result"
    }
   ],
   "source": [
    "len(movies_sorted_by_rank)"
   ]
  },
  {
   "cell_type": "code",
   "execution_count": 91,
   "metadata": {},
   "outputs": [
    {
     "data": {
      "text/html": [
       "<div>\n",
       "<style scoped>\n",
       "    .dataframe tbody tr th:only-of-type {\n",
       "        vertical-align: middle;\n",
       "    }\n",
       "\n",
       "    .dataframe tbody tr th {\n",
       "        vertical-align: top;\n",
       "    }\n",
       "\n",
       "    .dataframe thead th {\n",
       "        text-align: right;\n",
       "    }\n",
       "</style>\n",
       "<table border=\"1\" class=\"dataframe\">\n",
       "  <thead>\n",
       "    <tr style=\"text-align: right;\">\n",
       "      <th></th>\n",
       "      <th>titleType</th>\n",
       "      <th>primaryTitle</th>\n",
       "      <th>originalTitle</th>\n",
       "      <th>isAdult</th>\n",
       "      <th>startYear</th>\n",
       "      <th>endYear</th>\n",
       "      <th>runtimeMinutes</th>\n",
       "      <th>genres</th>\n",
       "      <th>averageRating</th>\n",
       "      <th>numVotes</th>\n",
       "    </tr>\n",
       "    <tr>\n",
       "      <th>tconst</th>\n",
       "      <th></th>\n",
       "      <th></th>\n",
       "      <th></th>\n",
       "      <th></th>\n",
       "      <th></th>\n",
       "      <th></th>\n",
       "      <th></th>\n",
       "      <th></th>\n",
       "      <th></th>\n",
       "      <th></th>\n",
       "    </tr>\n",
       "  </thead>\n",
       "  <tbody>\n",
       "    <tr>\n",
       "      <th>tt0944947</th>\n",
       "      <td>tvSeries</td>\n",
       "      <td>Game of Thrones</td>\n",
       "      <td>Game of Thrones</td>\n",
       "      <td>0</td>\n",
       "      <td>2011</td>\n",
       "      <td>2019</td>\n",
       "      <td>57</td>\n",
       "      <td>Action,Adventure,Drama</td>\n",
       "      <td>9.2</td>\n",
       "      <td>2154535</td>\n",
       "    </tr>\n",
       "    <tr>\n",
       "      <th>tt0903747</th>\n",
       "      <td>tvSeries</td>\n",
       "      <td>Breaking Bad</td>\n",
       "      <td>Breaking Bad</td>\n",
       "      <td>0</td>\n",
       "      <td>2008</td>\n",
       "      <td>2013</td>\n",
       "      <td>49</td>\n",
       "      <td>Crime,Drama,Thriller</td>\n",
       "      <td>9.5</td>\n",
       "      <td>1965123</td>\n",
       "    </tr>\n",
       "    <tr>\n",
       "      <th>tt4574334</th>\n",
       "      <td>tvSeries</td>\n",
       "      <td>Stranger Things</td>\n",
       "      <td>Stranger Things</td>\n",
       "      <td>0</td>\n",
       "      <td>2016</td>\n",
       "      <td>2024</td>\n",
       "      <td>51</td>\n",
       "      <td>Drama,Fantasy,Horror</td>\n",
       "      <td>8.7</td>\n",
       "      <td>1236380</td>\n",
       "    </tr>\n",
       "    <tr>\n",
       "      <th>tt1520211</th>\n",
       "      <td>tvSeries</td>\n",
       "      <td>The Walking Dead</td>\n",
       "      <td>The Walking Dead</td>\n",
       "      <td>0</td>\n",
       "      <td>2010</td>\n",
       "      <td>2022</td>\n",
       "      <td>44</td>\n",
       "      <td>Drama,Horror,Thriller</td>\n",
       "      <td>8.1</td>\n",
       "      <td>1023547</td>\n",
       "    </tr>\n",
       "    <tr>\n",
       "      <th>tt0108778</th>\n",
       "      <td>tvSeries</td>\n",
       "      <td>Friends</td>\n",
       "      <td>Friends</td>\n",
       "      <td>0</td>\n",
       "      <td>1994</td>\n",
       "      <td>2004</td>\n",
       "      <td>22</td>\n",
       "      <td>Comedy,Romance</td>\n",
       "      <td>8.9</td>\n",
       "      <td>1022289</td>\n",
       "    </tr>\n",
       "  </tbody>\n",
       "</table>\n",
       "</div>"
      ],
      "text/plain": [
       "          titleType      primaryTitle     originalTitle isAdult startYear  \\\n",
       "tconst                                                                      \n",
       "tt0944947  tvSeries   Game of Thrones   Game of Thrones       0      2011   \n",
       "tt0903747  tvSeries      Breaking Bad      Breaking Bad       0      2008   \n",
       "tt4574334  tvSeries   Stranger Things   Stranger Things       0      2016   \n",
       "tt1520211  tvSeries  The Walking Dead  The Walking Dead       0      2010   \n",
       "tt0108778  tvSeries           Friends           Friends       0      1994   \n",
       "\n",
       "          endYear runtimeMinutes                  genres  averageRating  \\\n",
       "tconst                                                                    \n",
       "tt0944947    2019             57  Action,Adventure,Drama            9.2   \n",
       "tt0903747    2013             49    Crime,Drama,Thriller            9.5   \n",
       "tt4574334    2024             51    Drama,Fantasy,Horror            8.7   \n",
       "tt1520211    2022             44   Drama,Horror,Thriller            8.1   \n",
       "tt0108778    2004             22          Comedy,Romance            8.9   \n",
       "\n",
       "           numVotes  \n",
       "tconst               \n",
       "tt0944947   2154535  \n",
       "tt0903747   1965123  \n",
       "tt4574334   1236380  \n",
       "tt1520211   1023547  \n",
       "tt0108778   1022289  "
      ]
     },
     "execution_count": 91,
     "metadata": {},
     "output_type": "execute_result"
    }
   ],
   "source": [
    "movies_sorted_by_rank.head()"
   ]
  },
  {
   "cell_type": "code",
   "execution_count": 52,
   "metadata": {},
   "outputs": [
    {
     "data": {
      "text/plain": [
       "(10000, 10)"
      ]
     },
     "execution_count": 52,
     "metadata": {},
     "output_type": "execute_result"
    }
   ],
   "source": [
    "movies_sorted_by_rank.shape"
   ]
  },
  {
   "cell_type": "code",
   "execution_count": 42,
   "metadata": {},
   "outputs": [],
   "source": [
    "# From the top 10,000 TVSeries, filter to only get shows since 1992\n",
    "movies_since_1992 = movies_sorted_by_rank.loc[(movies_sorted_by_rank['startYear'].isin(['2022',\n",
    "                                                                                     '2021',\n",
    "                                                                                     '2020','2019','2018','2017','2016',\n",
    "                                                                                     '2015','2014','2013','2012','2011',\n",
    "                                                                                     '2010','2009','2008','2007','2006',\n",
    "                                                                                     '2005','2004','2003','2002','2001',\n",
    "                                                                                     '2000','1999','1998','1997','1996',\n",
    "                                                                                     '1995','1994','1993','1992']))]\n",
    "movies_index = movies_since_1992.index"
   ]
  },
  {
   "cell_type": "code",
   "execution_count": 47,
   "metadata": {},
   "outputs": [
    {
     "data": {
      "text/plain": [
       "8735"
      ]
     },
     "execution_count": 47,
     "metadata": {},
     "output_type": "execute_result"
    }
   ],
   "source": [
    "len(movies_since_1992)"
   ]
  },
  {
   "cell_type": "code",
   "execution_count": 92,
   "metadata": {},
   "outputs": [
    {
     "data": {
      "text/html": [
       "<div>\n",
       "<style scoped>\n",
       "    .dataframe tbody tr th:only-of-type {\n",
       "        vertical-align: middle;\n",
       "    }\n",
       "\n",
       "    .dataframe tbody tr th {\n",
       "        vertical-align: top;\n",
       "    }\n",
       "\n",
       "    .dataframe thead th {\n",
       "        text-align: right;\n",
       "    }\n",
       "</style>\n",
       "<table border=\"1\" class=\"dataframe\">\n",
       "  <thead>\n",
       "    <tr style=\"text-align: right;\">\n",
       "      <th></th>\n",
       "      <th>titleType</th>\n",
       "      <th>primaryTitle</th>\n",
       "      <th>originalTitle</th>\n",
       "      <th>isAdult</th>\n",
       "      <th>startYear</th>\n",
       "      <th>endYear</th>\n",
       "      <th>runtimeMinutes</th>\n",
       "      <th>genres</th>\n",
       "      <th>averageRating</th>\n",
       "      <th>numVotes</th>\n",
       "    </tr>\n",
       "    <tr>\n",
       "      <th>tconst</th>\n",
       "      <th></th>\n",
       "      <th></th>\n",
       "      <th></th>\n",
       "      <th></th>\n",
       "      <th></th>\n",
       "      <th></th>\n",
       "      <th></th>\n",
       "      <th></th>\n",
       "      <th></th>\n",
       "      <th></th>\n",
       "    </tr>\n",
       "  </thead>\n",
       "  <tbody>\n",
       "    <tr>\n",
       "      <th>tt3986390</th>\n",
       "      <td>tvSeries</td>\n",
       "      <td>Fried</td>\n",
       "      <td>Fried</td>\n",
       "      <td>0</td>\n",
       "      <td>2014</td>\n",
       "      <td>\\N</td>\n",
       "      <td>23</td>\n",
       "      <td>Comedy</td>\n",
       "      <td>6.1</td>\n",
       "      <td>616</td>\n",
       "    </tr>\n",
       "    <tr>\n",
       "      <th>tt15844310</th>\n",
       "      <td>tvSeries</td>\n",
       "      <td>Witness Number 3</td>\n",
       "      <td>Witness Number 3</td>\n",
       "      <td>0</td>\n",
       "      <td>2022</td>\n",
       "      <td>\\N</td>\n",
       "      <td>45</td>\n",
       "      <td>Crime,Drama,Thriller</td>\n",
       "      <td>6.2</td>\n",
       "      <td>616</td>\n",
       "    </tr>\n",
       "    <tr>\n",
       "      <th>tt5676412</th>\n",
       "      <td>tvSeries</td>\n",
       "      <td>Sin Senos Sí Hay Paraíso</td>\n",
       "      <td>Sin Senos Sí Hay Paraíso</td>\n",
       "      <td>0</td>\n",
       "      <td>2016</td>\n",
       "      <td>2018</td>\n",
       "      <td>44</td>\n",
       "      <td>Action,Crime,Drama</td>\n",
       "      <td>6.6</td>\n",
       "      <td>616</td>\n",
       "    </tr>\n",
       "    <tr>\n",
       "      <th>tt1781092</th>\n",
       "      <td>tvSeries</td>\n",
       "      <td>Flying Wild Alaska</td>\n",
       "      <td>Flying Wild Alaska</td>\n",
       "      <td>0</td>\n",
       "      <td>2011</td>\n",
       "      <td>2012</td>\n",
       "      <td>60</td>\n",
       "      <td>Reality-TV</td>\n",
       "      <td>8.1</td>\n",
       "      <td>616</td>\n",
       "    </tr>\n",
       "    <tr>\n",
       "      <th>tt11744280</th>\n",
       "      <td>tvSeries</td>\n",
       "      <td>Under Fire</td>\n",
       "      <td>Onder Vuur</td>\n",
       "      <td>0</td>\n",
       "      <td>2021</td>\n",
       "      <td>\\N</td>\n",
       "      <td>47</td>\n",
       "      <td>Drama</td>\n",
       "      <td>6.7</td>\n",
       "      <td>616</td>\n",
       "    </tr>\n",
       "  </tbody>\n",
       "</table>\n",
       "</div>"
      ],
      "text/plain": [
       "           titleType              primaryTitle             originalTitle  \\\n",
       "tconst                                                                     \n",
       "tt3986390   tvSeries                     Fried                     Fried   \n",
       "tt15844310  tvSeries          Witness Number 3          Witness Number 3   \n",
       "tt5676412   tvSeries  Sin Senos Sí Hay Paraíso  Sin Senos Sí Hay Paraíso   \n",
       "tt1781092   tvSeries        Flying Wild Alaska        Flying Wild Alaska   \n",
       "tt11744280  tvSeries                Under Fire                Onder Vuur   \n",
       "\n",
       "           isAdult startYear endYear runtimeMinutes                genres  \\\n",
       "tconst                                                                      \n",
       "tt3986390        0      2014      \\N             23                Comedy   \n",
       "tt15844310       0      2022      \\N             45  Crime,Drama,Thriller   \n",
       "tt5676412        0      2016    2018             44    Action,Crime,Drama   \n",
       "tt1781092        0      2011    2012             60            Reality-TV   \n",
       "tt11744280       0      2021      \\N             47                 Drama   \n",
       "\n",
       "            averageRating  numVotes  \n",
       "tconst                               \n",
       "tt3986390             6.1       616  \n",
       "tt15844310            6.2       616  \n",
       "tt5676412             6.6       616  \n",
       "tt1781092             8.1       616  \n",
       "tt11744280            6.7       616  "
      ]
     },
     "execution_count": 92,
     "metadata": {},
     "output_type": "execute_result"
    }
   ],
   "source": [
    "movies_since_1992.tail()"
   ]
  },
  {
   "cell_type": "code",
   "execution_count": 50,
   "metadata": {},
   "outputs": [
    {
     "name": "stdout",
     "output_type": "stream",
     "text": [
      "(8735, 10)\n"
     ]
    }
   ],
   "source": [
    "print(movies_since_1992.shape)"
   ]
  },
  {
   "cell_type": "markdown",
   "metadata": {},
   "source": [
    "### Pull Keywords from API + Merge with Current Dataset"
   ]
  },
  {
   "cell_type": "code",
   "execution_count": 53,
   "metadata": {},
   "outputs": [],
   "source": [
    "from tqdm import tqdm\n",
    "from time import sleep\n",
    "from imdb import IMDb\n",
    "\n",
    "ia = IMDb()"
   ]
  },
  {
   "cell_type": "code",
   "execution_count": 54,
   "metadata": {},
   "outputs": [
    {
     "name": "stderr",
     "output_type": "stream",
     "text": [
      "100%|█████████████████████████████████████| 8735/8735 [4:41:15<00:00,  1.93s/it]\n"
     ]
    }
   ],
   "source": [
    "keywords_dict = {}\n",
    "for movie_index in tqdm(movies_index):\n",
    "    sleep(1)\n",
    "    try:\n",
    "        keywords_dict[movie_index] = ia.get_movie_keywords(movie_index[2:])['data']['keywords']\n",
    "    except:\n",
    "        keywords_dict[movie_index] = ''   \n",
    "        \n",
    "keywords = pd.DataFrame(dict([ (k,pd.Series(v)) for k,v in keywords_dict.items() ])).transpose()\n",
    "keywords = keywords.apply(lambda x: ','.join(x.dropna()), axis=1)\n",
    "keywords = pd.DataFrame(keywords)\n",
    "keywords.rename(columns={0:'keywords'}, inplace=True)"
   ]
  },
  {
   "cell_type": "code",
   "execution_count": 57,
   "metadata": {},
   "outputs": [],
   "source": [
    "# Save the plots to a CSV\n",
    "keywords.to_csv(path_or_buf='keywords_test.csv')"
   ]
  },
  {
   "cell_type": "code",
   "execution_count": 58,
   "metadata": {},
   "outputs": [],
   "source": [
    "# Load our keywords for the CSV\n",
    "keywords = pd.read_csv('keywords_test.csv')\n",
    "keywords.rename(columns={'Unnamed: 0':'tconst'}, inplace=True)\n",
    "keywords.set_index('tconst', inplace=True)"
   ]
  },
  {
   "cell_type": "code",
   "execution_count": 59,
   "metadata": {},
   "outputs": [
    {
     "data": {
      "text/html": [
       "<div>\n",
       "<style scoped>\n",
       "    .dataframe tbody tr th:only-of-type {\n",
       "        vertical-align: middle;\n",
       "    }\n",
       "\n",
       "    .dataframe tbody tr th {\n",
       "        vertical-align: top;\n",
       "    }\n",
       "\n",
       "    .dataframe thead th {\n",
       "        text-align: right;\n",
       "    }\n",
       "</style>\n",
       "<table border=\"1\" class=\"dataframe\">\n",
       "  <thead>\n",
       "    <tr style=\"text-align: right;\">\n",
       "      <th></th>\n",
       "      <th>keywords</th>\n",
       "    </tr>\n",
       "    <tr>\n",
       "      <th>tconst</th>\n",
       "      <th></th>\n",
       "    </tr>\n",
       "  </thead>\n",
       "  <tbody>\n",
       "    <tr>\n",
       "      <th>tt0944947</th>\n",
       "      <td>based-on-novel,dragon,politics,nudity,incest,q...</td>\n",
       "    </tr>\n",
       "    <tr>\n",
       "      <th>tt0903747</th>\n",
       "      <td>cancer,chemistry,methamphetamine,albuquerque-n...</td>\n",
       "    </tr>\n",
       "    <tr>\n",
       "      <th>tt4574334</th>\n",
       "      <td>government-conspiracy,1980s,friendship,telekin...</td>\n",
       "    </tr>\n",
       "    <tr>\n",
       "      <th>tt1520211</th>\n",
       "      <td>zombie,survival,post-apocalypse,based-on-comic...</td>\n",
       "    </tr>\n",
       "    <tr>\n",
       "      <th>tt0108778</th>\n",
       "      <td>friendship,friend,new-york-city,roommate,divor...</td>\n",
       "    </tr>\n",
       "  </tbody>\n",
       "</table>\n",
       "</div>"
      ],
      "text/plain": [
       "                                                    keywords\n",
       "tconst                                                      \n",
       "tt0944947  based-on-novel,dragon,politics,nudity,incest,q...\n",
       "tt0903747  cancer,chemistry,methamphetamine,albuquerque-n...\n",
       "tt4574334  government-conspiracy,1980s,friendship,telekin...\n",
       "tt1520211  zombie,survival,post-apocalypse,based-on-comic...\n",
       "tt0108778  friendship,friend,new-york-city,roommate,divor..."
      ]
     },
     "execution_count": 59,
     "metadata": {},
     "output_type": "execute_result"
    }
   ],
   "source": [
    "keywords.head()"
   ]
  },
  {
   "cell_type": "code",
   "execution_count": 60,
   "metadata": {},
   "outputs": [],
   "source": [
    "# Join to our table\n",
    "movies = movies_since_1992.join(keywords, how='inner')"
   ]
  },
  {
   "cell_type": "code",
   "execution_count": 61,
   "metadata": {},
   "outputs": [],
   "source": [
    "# Save our dataframe to a CSV if you don't want to re-run the loop\n",
    "# Change file name if saving again!!\n",
    "movies.to_csv(path_or_buf='tvSeries_keywords_test.csv')"
   ]
  },
  {
   "cell_type": "code",
   "execution_count": 5,
   "metadata": {},
   "outputs": [],
   "source": [
    "# Read in previously saved CSV\n",
    "tvSeries_keywords = pd.read_csv('tvSeries_keywords_test.csv')"
   ]
  },
  {
   "cell_type": "markdown",
   "metadata": {},
   "source": [
    "### Adding TVSeries Region + Language"
   ]
  },
  {
   "cell_type": "code",
   "execution_count": 4,
   "metadata": {},
   "outputs": [
    {
     "name": "stderr",
     "output_type": "stream",
     "text": [
      "/var/folders/p1/hxp8xnvj1js_njxc2m724dpm0000gn/T/ipykernel_35122/3071512314.py:2: DtypeWarning: Columns (7) have mixed types. Specify dtype option on import or set low_memory=False.\n",
      "  title_akas = pd.read_csv('title.akas.tsv.gz', sep='\\t', header=0)\n"
     ]
    }
   ],
   "source": [
    "# Import 1 table from IMDb datasets that we need\n",
    "title_akas = pd.read_csv('title.akas.tsv.gz', sep='\\t', header=0)"
   ]
  },
  {
   "cell_type": "code",
   "execution_count": 46,
   "metadata": {
    "scrolled": true
   },
   "outputs": [],
   "source": [
    "title_akas.rename(columns = {'titleId':'tconst'}, inplace = True)"
   ]
  },
  {
   "cell_type": "code",
   "execution_count": 75,
   "metadata": {},
   "outputs": [
    {
     "data": {
      "text/html": [
       "<div>\n",
       "<style scoped>\n",
       "    .dataframe tbody tr th:only-of-type {\n",
       "        vertical-align: middle;\n",
       "    }\n",
       "\n",
       "    .dataframe tbody tr th {\n",
       "        vertical-align: top;\n",
       "    }\n",
       "\n",
       "    .dataframe thead th {\n",
       "        text-align: right;\n",
       "    }\n",
       "</style>\n",
       "<table border=\"1\" class=\"dataframe\">\n",
       "  <thead>\n",
       "    <tr style=\"text-align: right;\">\n",
       "      <th></th>\n",
       "      <th>tconst</th>\n",
       "      <th>ordering</th>\n",
       "      <th>title</th>\n",
       "      <th>region</th>\n",
       "      <th>language</th>\n",
       "      <th>types</th>\n",
       "      <th>attributes</th>\n",
       "      <th>isOriginalTitle</th>\n",
       "    </tr>\n",
       "  </thead>\n",
       "  <tbody>\n",
       "    <tr>\n",
       "      <th>0</th>\n",
       "      <td>tt0000001</td>\n",
       "      <td>1</td>\n",
       "      <td>Карменсіта</td>\n",
       "      <td>UA</td>\n",
       "      <td>\\N</td>\n",
       "      <td>imdbDisplay</td>\n",
       "      <td>\\N</td>\n",
       "      <td>0</td>\n",
       "    </tr>\n",
       "    <tr>\n",
       "      <th>1</th>\n",
       "      <td>tt0000001</td>\n",
       "      <td>2</td>\n",
       "      <td>Carmencita</td>\n",
       "      <td>DE</td>\n",
       "      <td>\\N</td>\n",
       "      <td>\\N</td>\n",
       "      <td>literal title</td>\n",
       "      <td>0</td>\n",
       "    </tr>\n",
       "    <tr>\n",
       "      <th>2</th>\n",
       "      <td>tt0000001</td>\n",
       "      <td>3</td>\n",
       "      <td>Carmencita - spanyol tánc</td>\n",
       "      <td>HU</td>\n",
       "      <td>\\N</td>\n",
       "      <td>imdbDisplay</td>\n",
       "      <td>\\N</td>\n",
       "      <td>0</td>\n",
       "    </tr>\n",
       "    <tr>\n",
       "      <th>3</th>\n",
       "      <td>tt0000001</td>\n",
       "      <td>4</td>\n",
       "      <td>Καρμενσίτα</td>\n",
       "      <td>GR</td>\n",
       "      <td>\\N</td>\n",
       "      <td>imdbDisplay</td>\n",
       "      <td>\\N</td>\n",
       "      <td>0</td>\n",
       "    </tr>\n",
       "    <tr>\n",
       "      <th>4</th>\n",
       "      <td>tt0000001</td>\n",
       "      <td>5</td>\n",
       "      <td>Карменсита</td>\n",
       "      <td>RU</td>\n",
       "      <td>\\N</td>\n",
       "      <td>imdbDisplay</td>\n",
       "      <td>\\N</td>\n",
       "      <td>0</td>\n",
       "    </tr>\n",
       "  </tbody>\n",
       "</table>\n",
       "</div>"
      ],
      "text/plain": [
       "      tconst  ordering                      title region language  \\\n",
       "0  tt0000001         1                 Карменсіта     UA       \\N   \n",
       "1  tt0000001         2                 Carmencita     DE       \\N   \n",
       "2  tt0000001         3  Carmencita - spanyol tánc     HU       \\N   \n",
       "3  tt0000001         4                 Καρμενσίτα     GR       \\N   \n",
       "4  tt0000001         5                 Карменсита     RU       \\N   \n",
       "\n",
       "         types     attributes isOriginalTitle  \n",
       "0  imdbDisplay             \\N               0  \n",
       "1           \\N  literal title               0  \n",
       "2  imdbDisplay             \\N               0  \n",
       "3  imdbDisplay             \\N               0  \n",
       "4  imdbDisplay             \\N               0  "
      ]
     },
     "execution_count": 75,
     "metadata": {},
     "output_type": "execute_result"
    }
   ],
   "source": [
    "title_akas.head()"
   ]
  },
  {
   "cell_type": "code",
   "execution_count": 78,
   "metadata": {},
   "outputs": [
    {
     "data": {
      "text/plain": [
       "35755018"
      ]
     },
     "execution_count": 78,
     "metadata": {},
     "output_type": "execute_result"
    }
   ],
   "source": [
    "len(title_akas)"
   ]
  },
  {
   "cell_type": "code",
   "execution_count": 79,
   "metadata": {},
   "outputs": [
    {
     "name": "stdout",
     "output_type": "stream",
     "text": [
      "(35755018, 8)\n"
     ]
    }
   ],
   "source": [
    "print(title_akas.shape)"
   ]
  },
  {
   "cell_type": "code",
   "execution_count": 57,
   "metadata": {},
   "outputs": [],
   "source": [
    "# Merge with previously created dataset with metadata + keywords\n",
    "df_title_akas = pd.merge(title_akas, tvSeries_keywords,on=\"tconst\")"
   ]
  },
  {
   "cell_type": "code",
   "execution_count": 58,
   "metadata": {},
   "outputs": [
    {
     "data": {
      "text/plain": [
       "173911"
      ]
     },
     "execution_count": 58,
     "metadata": {},
     "output_type": "execute_result"
    }
   ],
   "source": [
    "len(df_title_akas)"
   ]
  },
  {
   "cell_type": "code",
   "execution_count": 83,
   "metadata": {},
   "outputs": [
    {
     "data": {
      "text/html": [
       "<div>\n",
       "<style scoped>\n",
       "    .dataframe tbody tr th:only-of-type {\n",
       "        vertical-align: middle;\n",
       "    }\n",
       "\n",
       "    .dataframe tbody tr th {\n",
       "        vertical-align: top;\n",
       "    }\n",
       "\n",
       "    .dataframe thead th {\n",
       "        text-align: right;\n",
       "    }\n",
       "</style>\n",
       "<table border=\"1\" class=\"dataframe\">\n",
       "  <thead>\n",
       "    <tr style=\"text-align: right;\">\n",
       "      <th></th>\n",
       "      <th>tconst</th>\n",
       "      <th>ordering</th>\n",
       "      <th>title</th>\n",
       "      <th>region</th>\n",
       "      <th>language</th>\n",
       "      <th>types</th>\n",
       "      <th>attributes</th>\n",
       "      <th>isOriginalTitle</th>\n",
       "      <th>titleType</th>\n",
       "      <th>primaryTitle</th>\n",
       "      <th>originalTitle</th>\n",
       "      <th>isAdult</th>\n",
       "      <th>startYear</th>\n",
       "      <th>endYear</th>\n",
       "      <th>runtimeMinutes</th>\n",
       "      <th>genres</th>\n",
       "      <th>averageRating</th>\n",
       "      <th>numVotes</th>\n",
       "      <th>keywords</th>\n",
       "    </tr>\n",
       "  </thead>\n",
       "  <tbody>\n",
       "    <tr>\n",
       "      <th>0</th>\n",
       "      <td>tt0088473</td>\n",
       "      <td>1</td>\n",
       "      <td>Disney's Adventures in Wonderland</td>\n",
       "      <td>CA</td>\n",
       "      <td>en</td>\n",
       "      <td>imdbDisplay</td>\n",
       "      <td>\\N</td>\n",
       "      <td>0</td>\n",
       "      <td>tvSeries</td>\n",
       "      <td>Adventures in Wonderland</td>\n",
       "      <td>Adventures in Wonderland</td>\n",
       "      <td>0</td>\n",
       "      <td>1992</td>\n",
       "      <td>1994</td>\n",
       "      <td>30</td>\n",
       "      <td>Adventure,Comedy,Family</td>\n",
       "      <td>7.9</td>\n",
       "      <td>773</td>\n",
       "      <td>alice-character,alice-in-wonderland,the-mad-ha...</td>\n",
       "    </tr>\n",
       "    <tr>\n",
       "      <th>1</th>\n",
       "      <td>tt0088473</td>\n",
       "      <td>2</td>\n",
       "      <td>Alicia en el País de las Maravillas</td>\n",
       "      <td>ES</td>\n",
       "      <td>\\N</td>\n",
       "      <td>imdbDisplay</td>\n",
       "      <td>\\N</td>\n",
       "      <td>0</td>\n",
       "      <td>tvSeries</td>\n",
       "      <td>Adventures in Wonderland</td>\n",
       "      <td>Adventures in Wonderland</td>\n",
       "      <td>0</td>\n",
       "      <td>1992</td>\n",
       "      <td>1994</td>\n",
       "      <td>30</td>\n",
       "      <td>Adventure,Comedy,Family</td>\n",
       "      <td>7.9</td>\n",
       "      <td>773</td>\n",
       "      <td>alice-character,alice-in-wonderland,the-mad-ha...</td>\n",
       "    </tr>\n",
       "    <tr>\n",
       "      <th>2</th>\n",
       "      <td>tt0088473</td>\n",
       "      <td>3</td>\n",
       "      <td>Adventures in Wonderland</td>\n",
       "      <td>\\N</td>\n",
       "      <td>\\N</td>\n",
       "      <td>original</td>\n",
       "      <td>\\N</td>\n",
       "      <td>1</td>\n",
       "      <td>tvSeries</td>\n",
       "      <td>Adventures in Wonderland</td>\n",
       "      <td>Adventures in Wonderland</td>\n",
       "      <td>0</td>\n",
       "      <td>1992</td>\n",
       "      <td>1994</td>\n",
       "      <td>30</td>\n",
       "      <td>Adventure,Comedy,Family</td>\n",
       "      <td>7.9</td>\n",
       "      <td>773</td>\n",
       "      <td>alice-character,alice-in-wonderland,the-mad-ha...</td>\n",
       "    </tr>\n",
       "    <tr>\n",
       "      <th>3</th>\n",
       "      <td>tt0088473</td>\n",
       "      <td>4</td>\n",
       "      <td>Disney's Abenteuer im Wunderland</td>\n",
       "      <td>DE</td>\n",
       "      <td>\\N</td>\n",
       "      <td>\\N</td>\n",
       "      <td>video box title</td>\n",
       "      <td>0</td>\n",
       "      <td>tvSeries</td>\n",
       "      <td>Adventures in Wonderland</td>\n",
       "      <td>Adventures in Wonderland</td>\n",
       "      <td>0</td>\n",
       "      <td>1992</td>\n",
       "      <td>1994</td>\n",
       "      <td>30</td>\n",
       "      <td>Adventure,Comedy,Family</td>\n",
       "      <td>7.9</td>\n",
       "      <td>773</td>\n",
       "      <td>alice-character,alice-in-wonderland,the-mad-ha...</td>\n",
       "    </tr>\n",
       "    <tr>\n",
       "      <th>4</th>\n",
       "      <td>tt0088473</td>\n",
       "      <td>5</td>\n",
       "      <td>Adventures in Wonderland</td>\n",
       "      <td>US</td>\n",
       "      <td>\\N</td>\n",
       "      <td>imdbDisplay</td>\n",
       "      <td>\\N</td>\n",
       "      <td>0</td>\n",
       "      <td>tvSeries</td>\n",
       "      <td>Adventures in Wonderland</td>\n",
       "      <td>Adventures in Wonderland</td>\n",
       "      <td>0</td>\n",
       "      <td>1992</td>\n",
       "      <td>1994</td>\n",
       "      <td>30</td>\n",
       "      <td>Adventure,Comedy,Family</td>\n",
       "      <td>7.9</td>\n",
       "      <td>773</td>\n",
       "      <td>alice-character,alice-in-wonderland,the-mad-ha...</td>\n",
       "    </tr>\n",
       "  </tbody>\n",
       "</table>\n",
       "</div>"
      ],
      "text/plain": [
       "      tconst  ordering                                title region language  \\\n",
       "0  tt0088473         1    Disney's Adventures in Wonderland     CA       en   \n",
       "1  tt0088473         2  Alicia en el País de las Maravillas     ES       \\N   \n",
       "2  tt0088473         3             Adventures in Wonderland     \\N       \\N   \n",
       "3  tt0088473         4     Disney's Abenteuer im Wunderland     DE       \\N   \n",
       "4  tt0088473         5             Adventures in Wonderland     US       \\N   \n",
       "\n",
       "         types       attributes isOriginalTitle titleType  \\\n",
       "0  imdbDisplay               \\N               0  tvSeries   \n",
       "1  imdbDisplay               \\N               0  tvSeries   \n",
       "2     original               \\N               1  tvSeries   \n",
       "3           \\N  video box title               0  tvSeries   \n",
       "4  imdbDisplay               \\N               0  tvSeries   \n",
       "\n",
       "               primaryTitle             originalTitle  isAdult  startYear  \\\n",
       "0  Adventures in Wonderland  Adventures in Wonderland        0       1992   \n",
       "1  Adventures in Wonderland  Adventures in Wonderland        0       1992   \n",
       "2  Adventures in Wonderland  Adventures in Wonderland        0       1992   \n",
       "3  Adventures in Wonderland  Adventures in Wonderland        0       1992   \n",
       "4  Adventures in Wonderland  Adventures in Wonderland        0       1992   \n",
       "\n",
       "  endYear runtimeMinutes                   genres  averageRating  numVotes  \\\n",
       "0    1994             30  Adventure,Comedy,Family            7.9       773   \n",
       "1    1994             30  Adventure,Comedy,Family            7.9       773   \n",
       "2    1994             30  Adventure,Comedy,Family            7.9       773   \n",
       "3    1994             30  Adventure,Comedy,Family            7.9       773   \n",
       "4    1994             30  Adventure,Comedy,Family            7.9       773   \n",
       "\n",
       "                                            keywords  \n",
       "0  alice-character,alice-in-wonderland,the-mad-ha...  \n",
       "1  alice-character,alice-in-wonderland,the-mad-ha...  \n",
       "2  alice-character,alice-in-wonderland,the-mad-ha...  \n",
       "3  alice-character,alice-in-wonderland,the-mad-ha...  \n",
       "4  alice-character,alice-in-wonderland,the-mad-ha...  "
      ]
     },
     "execution_count": 83,
     "metadata": {},
     "output_type": "execute_result"
    }
   ],
   "source": [
    "df_title_akas.head()"
   ]
  },
  {
   "cell_type": "code",
   "execution_count": 84,
   "metadata": {},
   "outputs": [
    {
     "name": "stdout",
     "output_type": "stream",
     "text": [
      "(173911, 19)\n"
     ]
    }
   ],
   "source": [
    "print(df_title_akas.shape)"
   ]
  },
  {
   "cell_type": "code",
   "execution_count": 81,
   "metadata": {},
   "outputs": [],
   "source": [
    "unique_regions = title_akas.region.unique()"
   ]
  },
  {
   "cell_type": "code",
   "execution_count": 82,
   "metadata": {},
   "outputs": [
    {
     "data": {
      "text/plain": [
       "249"
      ]
     },
     "execution_count": 82,
     "metadata": {},
     "output_type": "execute_result"
    }
   ],
   "source": [
    "len(unique_regions)"
   ]
  },
  {
   "cell_type": "code",
   "execution_count": 32,
   "metadata": {},
   "outputs": [],
   "source": [
    "# Filter by US region only\n",
    "title_akas_US = title_akas.loc[title_akas['region'] == 'US']"
   ]
  },
  {
   "cell_type": "code",
   "execution_count": 85,
   "metadata": {},
   "outputs": [
    {
     "data": {
      "text/plain": [
       "1433631"
      ]
     },
     "execution_count": 85,
     "metadata": {},
     "output_type": "execute_result"
    }
   ],
   "source": [
    "len(title_akas_US)"
   ]
  },
  {
   "cell_type": "code",
   "execution_count": 80,
   "metadata": {},
   "outputs": [
    {
     "data": {
      "text/html": [
       "<div>\n",
       "<style scoped>\n",
       "    .dataframe tbody tr th:only-of-type {\n",
       "        vertical-align: middle;\n",
       "    }\n",
       "\n",
       "    .dataframe tbody tr th {\n",
       "        vertical-align: top;\n",
       "    }\n",
       "\n",
       "    .dataframe thead th {\n",
       "        text-align: right;\n",
       "    }\n",
       "</style>\n",
       "<table border=\"1\" class=\"dataframe\">\n",
       "  <thead>\n",
       "    <tr style=\"text-align: right;\">\n",
       "      <th></th>\n",
       "      <th>titleId</th>\n",
       "      <th>ordering</th>\n",
       "      <th>title</th>\n",
       "      <th>region</th>\n",
       "      <th>language</th>\n",
       "      <th>types</th>\n",
       "      <th>attributes</th>\n",
       "      <th>isOriginalTitle</th>\n",
       "    </tr>\n",
       "  </thead>\n",
       "  <tbody>\n",
       "    <tr>\n",
       "      <th>5</th>\n",
       "      <td>tt0000001</td>\n",
       "      <td>6</td>\n",
       "      <td>Carmencita</td>\n",
       "      <td>US</td>\n",
       "      <td>\\N</td>\n",
       "      <td>imdbDisplay</td>\n",
       "      <td>\\N</td>\n",
       "      <td>0</td>\n",
       "    </tr>\n",
       "    <tr>\n",
       "      <th>14</th>\n",
       "      <td>tt0000002</td>\n",
       "      <td>7</td>\n",
       "      <td>The Clown and His Dogs</td>\n",
       "      <td>US</td>\n",
       "      <td>\\N</td>\n",
       "      <td>\\N</td>\n",
       "      <td>literal English title</td>\n",
       "      <td>0</td>\n",
       "    </tr>\n",
       "    <tr>\n",
       "      <th>33</th>\n",
       "      <td>tt0000005</td>\n",
       "      <td>10</td>\n",
       "      <td>Blacksmith Scene</td>\n",
       "      <td>US</td>\n",
       "      <td>\\N</td>\n",
       "      <td>imdbDisplay</td>\n",
       "      <td>\\N</td>\n",
       "      <td>0</td>\n",
       "    </tr>\n",
       "    <tr>\n",
       "      <th>36</th>\n",
       "      <td>tt0000005</td>\n",
       "      <td>1</td>\n",
       "      <td>Blacksmithing Scene</td>\n",
       "      <td>US</td>\n",
       "      <td>\\N</td>\n",
       "      <td>alternative</td>\n",
       "      <td>\\N</td>\n",
       "      <td>0</td>\n",
       "    </tr>\n",
       "    <tr>\n",
       "      <th>41</th>\n",
       "      <td>tt0000005</td>\n",
       "      <td>6</td>\n",
       "      <td>Blacksmith Scene #1</td>\n",
       "      <td>US</td>\n",
       "      <td>\\N</td>\n",
       "      <td>alternative</td>\n",
       "      <td>\\N</td>\n",
       "      <td>0</td>\n",
       "    </tr>\n",
       "  </tbody>\n",
       "</table>\n",
       "</div>"
      ],
      "text/plain": [
       "      titleId  ordering                   title region language        types  \\\n",
       "5   tt0000001         6              Carmencita     US       \\N  imdbDisplay   \n",
       "14  tt0000002         7  The Clown and His Dogs     US       \\N           \\N   \n",
       "33  tt0000005        10        Blacksmith Scene     US       \\N  imdbDisplay   \n",
       "36  tt0000005         1     Blacksmithing Scene     US       \\N  alternative   \n",
       "41  tt0000005         6     Blacksmith Scene #1     US       \\N  alternative   \n",
       "\n",
       "               attributes isOriginalTitle  \n",
       "5                      \\N               0  \n",
       "14  literal English title               0  \n",
       "33                     \\N               0  \n",
       "36                     \\N               0  \n",
       "41                     \\N               0  "
      ]
     },
     "execution_count": 80,
     "metadata": {},
     "output_type": "execute_result"
    }
   ],
   "source": [
    "title_akas_US.head()"
   ]
  },
  {
   "cell_type": "code",
   "execution_count": 86,
   "metadata": {},
   "outputs": [
    {
     "name": "stdout",
     "output_type": "stream",
     "text": [
      "(1433631, 8)\n"
     ]
    }
   ],
   "source": [
    "print(title_akas_US.shape)"
   ]
  },
  {
   "cell_type": "markdown",
   "metadata": {},
   "source": [
    "## Keyword + Genre Analysis"
   ]
  },
  {
   "cell_type": "code",
   "execution_count": 13,
   "metadata": {},
   "outputs": [
    {
     "data": {
      "text/html": [
       "<div>\n",
       "<style scoped>\n",
       "    .dataframe tbody tr th:only-of-type {\n",
       "        vertical-align: middle;\n",
       "    }\n",
       "\n",
       "    .dataframe tbody tr th {\n",
       "        vertical-align: top;\n",
       "    }\n",
       "\n",
       "    .dataframe thead th {\n",
       "        text-align: right;\n",
       "    }\n",
       "</style>\n",
       "<table border=\"1\" class=\"dataframe\">\n",
       "  <thead>\n",
       "    <tr style=\"text-align: right;\">\n",
       "      <th></th>\n",
       "      <th>tconst</th>\n",
       "      <th>titleType</th>\n",
       "      <th>primaryTitle</th>\n",
       "      <th>originalTitle</th>\n",
       "      <th>isAdult</th>\n",
       "      <th>startYear</th>\n",
       "      <th>endYear</th>\n",
       "      <th>runtimeMinutes</th>\n",
       "      <th>genres</th>\n",
       "      <th>averageRating</th>\n",
       "      <th>numVotes</th>\n",
       "      <th>keywords</th>\n",
       "    </tr>\n",
       "  </thead>\n",
       "  <tbody>\n",
       "    <tr>\n",
       "      <th>0</th>\n",
       "      <td>tt0944947</td>\n",
       "      <td>tvSeries</td>\n",
       "      <td>Game of Thrones</td>\n",
       "      <td>Game of Thrones</td>\n",
       "      <td>0</td>\n",
       "      <td>2011</td>\n",
       "      <td>2019</td>\n",
       "      <td>57</td>\n",
       "      <td>Action,Adventure,Drama</td>\n",
       "      <td>9.2</td>\n",
       "      <td>2142235</td>\n",
       "      <td>based-on-novel,dragon,politics,nudity,incest,q...</td>\n",
       "    </tr>\n",
       "    <tr>\n",
       "      <th>1</th>\n",
       "      <td>tt0903747</td>\n",
       "      <td>tvSeries</td>\n",
       "      <td>Breaking Bad</td>\n",
       "      <td>Breaking Bad</td>\n",
       "      <td>0</td>\n",
       "      <td>2008</td>\n",
       "      <td>2013</td>\n",
       "      <td>49</td>\n",
       "      <td>Crime,Drama,Thriller</td>\n",
       "      <td>9.5</td>\n",
       "      <td>1947109</td>\n",
       "      <td>cancer,chemistry,methamphetamine,albuquerque-n...</td>\n",
       "    </tr>\n",
       "    <tr>\n",
       "      <th>2</th>\n",
       "      <td>tt4574334</td>\n",
       "      <td>tvSeries</td>\n",
       "      <td>Stranger Things</td>\n",
       "      <td>Stranger Things</td>\n",
       "      <td>0</td>\n",
       "      <td>2016</td>\n",
       "      <td>2024</td>\n",
       "      <td>51</td>\n",
       "      <td>Drama,Fantasy,Horror</td>\n",
       "      <td>8.7</td>\n",
       "      <td>1226410</td>\n",
       "      <td>government-conspiracy,1980s,friendship,telekin...</td>\n",
       "    </tr>\n",
       "    <tr>\n",
       "      <th>3</th>\n",
       "      <td>tt1520211</td>\n",
       "      <td>tvSeries</td>\n",
       "      <td>The Walking Dead</td>\n",
       "      <td>The Walking Dead</td>\n",
       "      <td>0</td>\n",
       "      <td>2010</td>\n",
       "      <td>2022</td>\n",
       "      <td>44</td>\n",
       "      <td>Drama,Horror,Thriller</td>\n",
       "      <td>8.1</td>\n",
       "      <td>1017040</td>\n",
       "      <td>zombie,survival,post-apocalypse,based-on-comic...</td>\n",
       "    </tr>\n",
       "    <tr>\n",
       "      <th>4</th>\n",
       "      <td>tt0108778</td>\n",
       "      <td>tvSeries</td>\n",
       "      <td>Friends</td>\n",
       "      <td>Friends</td>\n",
       "      <td>0</td>\n",
       "      <td>1994</td>\n",
       "      <td>2004</td>\n",
       "      <td>22</td>\n",
       "      <td>Comedy,Romance</td>\n",
       "      <td>8.9</td>\n",
       "      <td>1016319</td>\n",
       "      <td>friendship,friend,new-york-city,roommate,divor...</td>\n",
       "    </tr>\n",
       "    <tr>\n",
       "      <th>...</th>\n",
       "      <td>...</td>\n",
       "      <td>...</td>\n",
       "      <td>...</td>\n",
       "      <td>...</td>\n",
       "      <td>...</td>\n",
       "      <td>...</td>\n",
       "      <td>...</td>\n",
       "      <td>...</td>\n",
       "      <td>...</td>\n",
       "      <td>...</td>\n",
       "      <td>...</td>\n",
       "      <td>...</td>\n",
       "    </tr>\n",
       "    <tr>\n",
       "      <th>995</th>\n",
       "      <td>tt2407574</td>\n",
       "      <td>tvSeries</td>\n",
       "      <td>My Mad Fat Diary</td>\n",
       "      <td>My Mad Fat Diary</td>\n",
       "      <td>0</td>\n",
       "      <td>2013</td>\n",
       "      <td>2015</td>\n",
       "      <td>47</td>\n",
       "      <td>Comedy,Drama,Romance</td>\n",
       "      <td>8.4</td>\n",
       "      <td>18123</td>\n",
       "      <td>overweight-girl,best-friends,psychiatric-hospi...</td>\n",
       "    </tr>\n",
       "    <tr>\n",
       "      <th>996</th>\n",
       "      <td>tt11639952</td>\n",
       "      <td>tvSeries</td>\n",
       "      <td>Young Rock</td>\n",
       "      <td>Young Rock</td>\n",
       "      <td>0</td>\n",
       "      <td>2021</td>\n",
       "      <td>\\N</td>\n",
       "      <td>\\N</td>\n",
       "      <td>Comedy</td>\n",
       "      <td>7.9</td>\n",
       "      <td>18113</td>\n",
       "      <td>childhood,wrestling,future,polynesia,look-back...</td>\n",
       "    </tr>\n",
       "    <tr>\n",
       "      <th>997</th>\n",
       "      <td>tt2197797</td>\n",
       "      <td>tvSeries</td>\n",
       "      <td>666 Park Avenue</td>\n",
       "      <td>666 Park Avenue</td>\n",
       "      <td>0</td>\n",
       "      <td>2012</td>\n",
       "      <td>2013</td>\n",
       "      <td>60</td>\n",
       "      <td>Drama,Fantasy,Horror</td>\n",
       "      <td>6.8</td>\n",
       "      <td>18106</td>\n",
       "      <td>peeping-tom,cheating-wife,voyeur,seduction,jea...</td>\n",
       "    </tr>\n",
       "    <tr>\n",
       "      <th>998</th>\n",
       "      <td>tt0421384</td>\n",
       "      <td>tvSeries</td>\n",
       "      <td>The Valley of the Wolves</td>\n",
       "      <td>Kurtlar Vadisi</td>\n",
       "      <td>0</td>\n",
       "      <td>2003</td>\n",
       "      <td>2005</td>\n",
       "      <td>60</td>\n",
       "      <td>Action,Crime,Drama</td>\n",
       "      <td>7.8</td>\n",
       "      <td>18071</td>\n",
       "      <td>mafia,istanbul-turkey</td>\n",
       "    </tr>\n",
       "    <tr>\n",
       "      <th>999</th>\n",
       "      <td>tt1059475</td>\n",
       "      <td>tvSeries</td>\n",
       "      <td>Flashpoint</td>\n",
       "      <td>Flashpoint</td>\n",
       "      <td>0</td>\n",
       "      <td>2008</td>\n",
       "      <td>2012</td>\n",
       "      <td>41</td>\n",
       "      <td>Action,Crime,Drama</td>\n",
       "      <td>7.8</td>\n",
       "      <td>18010</td>\n",
       "      <td>cop-drama,canadian-police,true-crime,tactical,...</td>\n",
       "    </tr>\n",
       "  </tbody>\n",
       "</table>\n",
       "<p>1000 rows × 12 columns</p>\n",
       "</div>"
      ],
      "text/plain": [
       "         tconst titleType              primaryTitle     originalTitle  \\\n",
       "0     tt0944947  tvSeries           Game of Thrones   Game of Thrones   \n",
       "1     tt0903747  tvSeries              Breaking Bad      Breaking Bad   \n",
       "2     tt4574334  tvSeries           Stranger Things   Stranger Things   \n",
       "3     tt1520211  tvSeries          The Walking Dead  The Walking Dead   \n",
       "4     tt0108778  tvSeries                   Friends           Friends   \n",
       "..          ...       ...                       ...               ...   \n",
       "995   tt2407574  tvSeries          My Mad Fat Diary  My Mad Fat Diary   \n",
       "996  tt11639952  tvSeries                Young Rock        Young Rock   \n",
       "997   tt2197797  tvSeries           666 Park Avenue   666 Park Avenue   \n",
       "998   tt0421384  tvSeries  The Valley of the Wolves    Kurtlar Vadisi   \n",
       "999   tt1059475  tvSeries                Flashpoint        Flashpoint   \n",
       "\n",
       "     isAdult  startYear endYear runtimeMinutes                  genres  \\\n",
       "0          0       2011    2019             57  Action,Adventure,Drama   \n",
       "1          0       2008    2013             49    Crime,Drama,Thriller   \n",
       "2          0       2016    2024             51    Drama,Fantasy,Horror   \n",
       "3          0       2010    2022             44   Drama,Horror,Thriller   \n",
       "4          0       1994    2004             22          Comedy,Romance   \n",
       "..       ...        ...     ...            ...                     ...   \n",
       "995        0       2013    2015             47    Comedy,Drama,Romance   \n",
       "996        0       2021      \\N             \\N                  Comedy   \n",
       "997        0       2012    2013             60    Drama,Fantasy,Horror   \n",
       "998        0       2003    2005             60      Action,Crime,Drama   \n",
       "999        0       2008    2012             41      Action,Crime,Drama   \n",
       "\n",
       "     averageRating  numVotes  \\\n",
       "0              9.2   2142235   \n",
       "1              9.5   1947109   \n",
       "2              8.7   1226410   \n",
       "3              8.1   1017040   \n",
       "4              8.9   1016319   \n",
       "..             ...       ...   \n",
       "995            8.4     18123   \n",
       "996            7.9     18113   \n",
       "997            6.8     18106   \n",
       "998            7.8     18071   \n",
       "999            7.8     18010   \n",
       "\n",
       "                                              keywords  \n",
       "0    based-on-novel,dragon,politics,nudity,incest,q...  \n",
       "1    cancer,chemistry,methamphetamine,albuquerque-n...  \n",
       "2    government-conspiracy,1980s,friendship,telekin...  \n",
       "3    zombie,survival,post-apocalypse,based-on-comic...  \n",
       "4    friendship,friend,new-york-city,roommate,divor...  \n",
       "..                                                 ...  \n",
       "995  overweight-girl,best-friends,psychiatric-hospi...  \n",
       "996  childhood,wrestling,future,polynesia,look-back...  \n",
       "997  peeping-tom,cheating-wife,voyeur,seduction,jea...  \n",
       "998                              mafia,istanbul-turkey  \n",
       "999  cop-drama,canadian-police,true-crime,tactical,...  \n",
       "\n",
       "[1000 rows x 12 columns]"
      ]
     },
     "execution_count": 13,
     "metadata": {},
     "output_type": "execute_result"
    }
   ],
   "source": [
    "tvSeries_keywords.head(1000)"
   ]
  },
  {
   "cell_type": "code",
   "execution_count": 89,
   "metadata": {},
   "outputs": [
    {
     "name": "stdout",
     "output_type": "stream",
     "text": [
      "There are 27 unique genres:\n",
      "['action' 'adventure' 'animation' 'biography' 'comedy' 'crime'\n",
      " 'documentary' 'drama' 'family' 'fantasy' 'game-show' 'history' 'horror'\n",
      " 'music' 'musical' 'mystery' 'n' 'news' 'reality-tv' 'romance' 'sci-fi'\n",
      " 'short' 'sport' 'talk-show' 'thriller' 'war' 'western']\n"
     ]
    }
   ],
   "source": [
    "#get unique genres\n",
    "from sklearn.feature_extraction.text import CountVectorizer\n",
    "\n",
    "temp = tvSeries_keywords.genres.dropna()\n",
    "vec = CountVectorizer(token_pattern='(?u)\\\\b[\\\\w-]+\\\\b', analyzer='word').fit(temp)\n",
    "bag_of_genres = vec.transform(temp)\n",
    "unique_genres =  vec.get_feature_names_out()\n",
    "np.array(unique_genres)\n",
    "print('There are', len(unique_genres), 'unique genres:')\n",
    "print(unique_genres)"
   ]
  },
  {
   "cell_type": "code",
   "execution_count": 63,
   "metadata": {},
   "outputs": [
    {
     "name": "stderr",
     "output_type": "stream",
     "text": [
      "/var/folders/p1/hxp8xnvj1js_njxc2m724dpm0000gn/T/ipykernel_35122/2182619650.py:4: MatplotlibDeprecationWarning: The seaborn styles shipped by Matplotlib are deprecated since 3.6, as they no longer correspond to the styles shipped by seaborn. However, they will remain available as 'seaborn-v0_8-<style>'. Alternatively, directly use the seaborn API instead.\n",
      "  plt.style.use(\"seaborn-pastel\")\n"
     ]
    },
    {
     "data": {
      "image/png": "[encoded data removed]",
      "text/plain": [
       "<Figure size 1500x800 with 1 Axes>"
      ]
     },
     "metadata": {},
     "output_type": "display_data"
    }
   ],
   "source": [
    "import seaborn as sns\n",
    "import matplotlib.pyplot as plt\n",
    "\n",
    "sns.set(style=\"darkgrid\")\n",
    "plt.style.use(\"seaborn-pastel\")\n",
    "\n",
    "genres = pd.DataFrame(bag_of_genres.todense(),columns=unique_genres,index=temp.index)\n",
    "sorted_genres_perc = 100*pd.Series(genres.sum()).sort_values(ascending=False)/genres.shape[0]\n",
    "plt.figure(figsize=(15,8))\n",
    "sns.barplot(x=sorted_genres_perc.values,y=sorted_genres_perc.index,orient=\"h\")\n",
    "plt.xlabel(\"Percentage of tvSeries (%)\")\n",
    "plt.show()"
   ]
  },
  {
   "cell_type": "code",
   "execution_count": 90,
   "metadata": {},
   "outputs": [
    {
     "name": "stdout",
     "output_type": "stream",
     "text": [
      "There are 31527 unique keywords:\n",
      "['10-year-old' '10-year-old-boy' '10000s-b' ... 'zulu' 'zumba'\n",
      " 'zurueck-zu-lueck']\n"
     ]
    }
   ],
   "source": [
    "#get unique keywords\n",
    "from sklearn.feature_extraction.text import CountVectorizer\n",
    "temp = tvSeries_keywords.keywords.dropna()\n",
    "vec = CountVectorizer(token_pattern='(?u)\\\\b[\\\\w-]+\\\\b', analyzer='word').fit(temp)\n",
    "bag_of_keywords = vec.transform(temp)\n",
    "unique_keywords =  vec.get_feature_names_out()\n",
    "np.array(unique_keywords)\n",
    "print('There are', len(unique_keywords), 'unique keywords:')\n",
    "print(unique_keywords)"
   ]
  },
  {
   "cell_type": "code",
   "execution_count": 70,
   "metadata": {},
   "outputs": [
    {
     "data": {
      "image/png": "[encoded data removed]",
      "text/plain": [
       "<Figure size 2500x800 with 1 Axes>"
      ]
     },
     "metadata": {},
     "output_type": "display_data"
    }
   ],
   "source": [
    "keywords = pd.DataFrame(bag_of_keywords.todense(),columns=unique_keywords,index=temp.index)\n",
    "sorted_keywords_perc = 100*pd.Series(keywords.sum()).sort_values(ascending=False)/keywords.shape[0]\n",
    "plt.figure(figsize=(25,8))\n",
    "sns.barplot(x=sorted_keywords_perc.values,y=sorted_keywords_perc.index,orient=\"h\")\n",
    "plt.xlabel(\"Percentage of tvSeries (%)\")\n",
    "plt.show()"
   ]
  },
  {
   "cell_type": "code",
   "execution_count": null,
   "metadata": {},
   "outputs": [],
   "source": []
  },
  {
   "cell_type": "code",
   "execution_count": null,
   "metadata": {},
   "outputs": [],
   "source": []
  }
 ],
 "metadata": {
  "kernelspec": {
   "display_name": "Python 3 (ipykernel)",
   "language": "python",
   "name": "python3"
  },
  "language_info": {
   "codemirror_mode": {
    "name": "ipython",
    "version": 3
   },
   "file_extension": ".py",
   "mimetype": "text/x-python",
   "name": "python",
   "nbconvert_exporter": "python",
   "pygments_lexer": "ipython3",
   "version": "3.10.9"
  }
 },
 "nbformat": 4,
 "nbformat_minor": 2
}
